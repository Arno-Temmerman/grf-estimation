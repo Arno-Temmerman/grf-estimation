{
 "cells": [
  {
   "cell_type": "code",
   "id": "97f66aeb5098ad01",
   "metadata": {
    "ExecuteTime": {
     "end_time": "2024-06-03T09:27:33.245350Z",
     "start_time": "2024-06-03T09:27:24.271325Z"
    }
   },
   "source": [
    "import data_processing as dp\n",
    "import model_evaluation as me\n",
    "import matplotlib.pyplot as plt\n",
    "import numpy as np\n",
    "import pandas as pd\n",
    "import torch\n",
    "from torch import tensor\n",
    "\n",
    "import importlib\n",
    "importlib.reload(dp)"
   ],
   "execution_count": 1,
   "outputs": []
  },
  {
   "cell_type": "code",
   "id": "a57813439f780c06",
   "metadata": {
    "ExecuteTime": {
     "end_time": "2024-06-03T09:27:41.440088Z",
     "start_time": "2024-06-03T09:27:33.257694Z"
    }
   },
   "source": [
    "####################\n",
    "# LOADING THE DATA #\n",
    "####################\n",
    "DATA_DIR = \"../segmented_data/\"\n",
    "SUBJECTS = ['AT']\n",
    "SCENES = ['FlatWalkStraight', 'FlatWalkCircular', 'FlatWalkStatic']\n",
    "TRIALS = ('all')\n",
    "\n",
    "gait_cycles = dp.read_gait_cycles(DATA_DIR, SUBJECTS, SCENES, TRIALS, drop_emgs=True)"
   ],
   "execution_count": 2,
   "outputs": []
  },
  {
   "metadata": {
    "ExecuteTime": {
     "end_time": "2024-06-03T09:27:47.193055Z",
     "start_time": "2024-06-03T09:27:41.446165Z"
    }
   },
   "cell_type": "code",
   "source": [
    "#############\n",
    "# FILTERING #\n",
    "#############\n",
    "df_filtered = dp.filter_together(gait_cycles)"
   ],
   "id": "27355a1979533d8c",
   "execution_count": 3,
   "outputs": []
  },
  {
   "cell_type": "code",
   "id": "651dc95b1652b568",
   "metadata": {
    "ExecuteTime": {
     "end_time": "2024-06-03T09:27:47.469828Z",
     "start_time": "2024-06-03T09:27:47.201139Z"
    }
   },
   "source": [
    "######################\n",
    "# FEATURE EXTRACTION #\n",
    "######################\n",
    "X_test = dp.extract_features(df_filtered)\n",
    "Y_test = df_filtered[['Fx_l', 'Fy_l', 'Fz_l', 'Tz_l',\n",
    "                      'Fx_r', 'Fy_r', 'Fz_r', 'Tz_r']]\n",
    "\n",
    "Y_test = tensor(Y_test.to_numpy().reshape((-1, 8)), dtype=torch.float32 )"
   ],
   "execution_count": 4,
   "outputs": []
  },
  {
   "metadata": {
    "ExecuteTime": {
     "end_time": "2024-06-03T09:27:47.485045Z",
     "start_time": "2024-06-03T09:27:47.473922Z"
    }
   },
   "cell_type": "code",
   "source": "DIR = 'results/excl_emg/all/20240601-191218'",
   "id": "8cf5835ff07bafc0",
   "execution_count": 5,
   "outputs": []
  },
  {
   "cell_type": "code",
   "id": "initial_id",
   "metadata": {
    "ExecuteTime": {
     "end_time": "2024-06-03T09:27:48.985853Z",
     "start_time": "2024-06-03T09:27:47.489924Z"
    }
   },
   "source": [
    "from models.stm_regressor import STMRegressor\n",
    "\n",
    "full_grf_estimator = STMRegressor(DIR)\n",
    "Y_pred = full_grf_estimator(X_test)"
   ],
   "execution_count": 6,
   "outputs": []
  },
  {
   "metadata": {
    "ExecuteTime": {
     "end_time": "2024-06-03T09:27:53.961339Z",
     "start_time": "2024-06-03T09:27:48.990962Z"
    }
   },
   "cell_type": "code",
   "source": [
    "# importlib.reload(me)\n",
    "me.plot_correlations(Y_test, Y_pred)"
   ],
   "id": "bf88f845e946a057",
   "execution_count": 7,
   "outputs": []
  },
  {
   "metadata": {
    "ExecuteTime": {
     "end_time": "2024-06-03T09:28:02.293884Z",
     "start_time": "2024-06-03T09:27:53.965424Z"
    }
   },
   "cell_type": "code",
   "source": [
    "####################\n",
    "# LOADING THE DATA #\n",
    "####################\n",
    "DATA_DIR = \"../segmented_data/\"\n",
    "SUBJECTS = ['AT']\n",
    "SCENES = ['FlatWalkStraight', 'FlatWalkCircular', 'FlatWalkStatic']\n",
    "TRIALS = ('all')\n",
    "\n",
    "perturbations = dp.read_gait_cycles(DATA_DIR, SUBJECTS, SCENES, TRIALS, drop_emgs=True)"
   ],
   "id": "eba8df8c0fbc311e",
   "execution_count": 8,
   "outputs": []
  },
  {
   "metadata": {
    "ExecuteTime": {
     "end_time": "2024-06-03T09:48:16.671296Z",
     "start_time": "2024-06-03T09:48:14.783789Z"
    }
   },
   "cell_type": "code",
   "source": [
    "import joblib\n",
    "from models.mlp import MLP\n",
    "\n",
    "X_l, X_r = dp.homogenize(X_test)\n",
    "\n",
    "\n",
    "scaler = joblib.load(f'{DIR}/scaler.pkl')\n",
    "pca    = joblib.load(f'{DIR}/PCA.pkl')\n",
    "\n",
    "# Normalize features\n",
    "X_l = scaler.transform(X_l.values)\n",
    "X_r = scaler.transform(X_r.values)\n",
    "\n",
    "# Perform PCA\n",
    "X_l_pc = pca.transform(X_l)\n",
    "X_r_pc = pca.transform(X_r)\n",
    "\n",
    "# Convert to tensors\n",
    "X_pc_l_tensor = tensor(X_l_pc, dtype=torch.float32)\n",
    "X_pc_r_tensor = tensor(X_r_pc, dtype=torch.float32)\n",
    "\n",
    "model = MLP.load(DIR, 'Tz')\n",
    "y_pred = model(X_pc_l_tensor)\n",
    "\n",
    "for key, value in model.state_dict().items():\n",
    "    if 'weight' in key:\n",
    "        if 'input' in key:  print(np.shape(value)[1])\n",
    "        if 'hidden' in key: print(np.shape(value)[1])\n",
    "        if 'output' in key:\n",
    "            print(np.shape(value)[1])\n",
    "            print(np.shape(value)[0])\n",
    "\n",
    "me.print_metrics(Y_test[:,3].reshape(-1,1), y_pred)"
   ],
   "id": "1df1239637b6224a",
   "execution_count": 18,
   "outputs": []
  }
 ],
 "metadata": {
  "kernelspec": {
   "display_name": "Python 3",
   "language": "python",
   "name": "python3"
  },
  "language_info": {
   "codemirror_mode": {
    "name": "ipython",
    "version": 2
   },
   "file_extension": ".py",
   "mimetype": "text/x-python",
   "name": "python",
   "nbconvert_exporter": "python",
   "pygments_lexer": "ipython2"
  }
 },
 "nbformat": 4,
 "nbformat_minor": 5
}
