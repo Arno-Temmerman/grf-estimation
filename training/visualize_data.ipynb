{
 "cells": [
  {
   "metadata": {
    "ExecuteTime": {
     "end_time": "2024-05-15T12:57:25.491938Z",
     "start_time": "2024-05-15T12:57:08.729908Z"
    }
   },
   "cell_type": "code",
   "source": [
    "import itertools\n",
    "import pandas as pd\n",
    "import matplotlib.pyplot as plt\n",
    "import os\n",
    "\n",
    "import training as methods"
   ],
   "id": "9d4edfd7cad4a1f9",
   "outputs": [
    {
     "name": "stdout",
     "output_type": "stream",
     "text": [
      "WARNING:tensorflow:From C:\\Users\\Arno\\.conda\\envs\\ml-2324\\lib\\site-packages\\keras\\src\\losses.py:2976: The name tf.losses.sparse_softmax_cross_entropy is deprecated. Please use tf.compat.v1.losses.sparse_softmax_cross_entropy instead.\n",
      "\n"
     ]
    }
   ],
   "execution_count": 1
  },
  {
   "metadata": {
    "ExecuteTime": {
     "end_time": "2024-05-15T12:58:09.730414Z",
     "start_time": "2024-05-15T12:58:09.321943Z"
    }
   },
   "cell_type": "code",
   "source": [
    "####################\n",
    "# LOADING THE DATA #\n",
    "####################\n",
    "DATA_DIR = \"../segmented_data/\"\n",
    "SUBJECTS = ['AT', 'EL', 'HH', 'MS', 'RB', 'RL', 'TT']\n",
    "SCENES = ['FlatWalkStraight']\n",
    "TRIALS = ('Bw stop FW walking_3')\n",
    "\n",
    "dfs = methods.read_gait_cycles(SUBJECTS, SCENES, TRIALS)"
   ],
   "id": "initial_id",
   "outputs": [
    {
     "name": "stdout",
     "output_type": "stream",
     "text": [
      "Reading Bw stop FW walking_3.csv\n",
      "Reading Bw stop FW walking_3_badForcePlate.csv\n",
      "Reading Bw stop FW walking_3.csv\n",
      "Reading Bw stop FW walking_3_badForcePlate.csv\n",
      "Reading Bw stop FW walking_3.csv\n",
      "Reading Bw stop FW walking_3.csv\n",
      "Reading Bw stop FW walking_3.csv\n"
     ]
    }
   ],
   "execution_count": 4
  },
  {
   "metadata": {
    "jupyter": {
     "is_executing": true
    },
    "ExecuteTime": {
     "start_time": "2024-05-15T13:00:34.166079Z"
    }
   },
   "cell_type": "code",
   "source": [
    "def draw_line_chart(label, df):\n",
    "    fig = plt.figure(figsize=(20, 3))\n",
    "    gs = fig.add_gridspec(1, 2, hspace=0.22)\n",
    "    axs = gs.subplots(sharex=True)\n",
    "    fig.suptitle(label)\n",
    "\n",
    "    x = df.index\n",
    "    y = df['Fz_l']\n",
    "    y3 = df['Ftot_l']\n",
    "    axs[0].plot(x, y)\n",
    "    axs[0].plot(x, y3)\n",
    "\n",
    "    y4 = df['Fz_r']\n",
    "    y5 = df['Ftot_r']\n",
    "    axs[1].plot(x, y4)\n",
    "    axs[1].plot(x, y5)\n",
    "    \n",
    "    cond1 = df['valid_mask_feet']  == 1\n",
    "    cond2 = df['correct_mask_ins'] == 1\n",
    "    \n",
    "    cond3_l = (df['fp1_l'] != 1) # | (df['Fz_l'] == 0) \n",
    "    cond3_r = (df['fp1_r'] != 1) # | (df['Fz_l'] == 0) \n",
    "    \n",
    "    cond4_l = (df['Ftot_l'] < 0.05) | (df['Fz_l'] != 0)\n",
    "    cond4_r = (df['Ftot_r'] < 0.05) | (df['Fz_r'] != 0)\n",
    "    \n",
    "    \n",
    "    for ax in axs:\n",
    "        ax.fill_between(x, 0, 1, where=~cond1, color='green', alpha=0.1, transform=ax.get_xaxis_transform())\n",
    "        ax.fill_between(x, 0, 1, where=~cond2, color='orange', alpha=0.1, transform=ax.get_xaxis_transform())\n",
    "\n",
    "    \n",
    "    axs[0].fill_between(x, 0, 1, where=~cond3_l, color='red', alpha=0.1, transform=axs[0].get_xaxis_transform())\n",
    "    axs[1].fill_between(x, 0, 1, where=~cond3_r, color='red', alpha=0.1, transform=axs[1].get_xaxis_transform())\n",
    "\n",
    "    axs[0].fill_between(x, 0, 1, where=~cond4_l, color='blue', alpha=0.1, transform=axs[0].get_xaxis_transform())\n",
    "    axs[1].fill_between(x, 0, 1, where=~cond4_r, color='blue', alpha=0.1, transform=axs[1].get_xaxis_transform())\n",
    "    \n",
    "    # Trimming gait cycles\n",
    "    first_l = df[(df['Fz_l'] != 0)].index.min()\n",
    "    first_r = df[(df['Fz_r'] != 0)].index.min()\n",
    "\n",
    "    if(first_l != df.index.min()):\n",
    "        test_l = df[(df.index < first_l - 5)].index[-1]\n",
    "        axs[0].axvspan(df.index.min(), test_l, alpha=0.1, color='grey')\n",
    "\n",
    "    if(first_r != df.index.min()):\n",
    "        test_r = df[(df.index < first_r - 5)].index[-1]\n",
    "        axs[1].axvspan(df.index.min(), test_r, alpha=0.1, color='grey')\n",
    "    \n",
    "    \n",
    "    last_l = df[(df['Fz_l'] != 0)].index.max()\n",
    "    last_r = df[(df['Fz_r'] != 0)].index.max()\n",
    "    \n",
    "    if(last_l != df.index.max()):\n",
    "        test_l = df[(df.index > last_l + 5)].index[0]\n",
    "        axs[0].axvspan(test_l, df.index.max(), alpha=0.1, color='grey')\n",
    "\n",
    "    if(last_r != df.index.max()):\n",
    "        test_r = df[(df.index > last_r + 5)].index[0]\n",
    "        axs[1].axvspan(test_r, df.index.max(), alpha=0.1, color='grey')\n",
    "    \n",
    "    fig.savefig('test.svg', format='svg')\n",
    "\n",
    "\n",
    "for df in dfs:\n",
    "    label = df['trial'].iloc[0]\n",
    "    draw_line_chart(label, df)"
   ],
   "id": "6be94059c2469b83",
   "outputs": [],
   "execution_count": null
  },
  {
   "metadata": {},
   "cell_type": "code",
   "outputs": [],
   "execution_count": null,
   "source": "",
   "id": "e0a2cc819d76251f"
  }
 ],
 "metadata": {
  "kernelspec": {
   "display_name": "Python 3",
   "language": "python",
   "name": "python3"
  },
  "language_info": {
   "codemirror_mode": {
    "name": "ipython",
    "version": 2
   },
   "file_extension": ".py",
   "mimetype": "text/x-python",
   "name": "python",
   "nbconvert_exporter": "python",
   "pygments_lexer": "ipython2",
   "version": "2.7.6"
  }
 },
 "nbformat": 4,
 "nbformat_minor": 5
}
