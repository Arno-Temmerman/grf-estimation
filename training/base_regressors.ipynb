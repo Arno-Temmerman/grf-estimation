{
 "cells": [
  {
   "cell_type": "code",
   "id": "initial_id",
   "metadata": {
    "collapsed": true,
    "ExecuteTime": {
     "end_time": "2024-05-14T08:03:55.553684Z",
     "start_time": "2024-05-14T08:02:55.369061Z"
    }
   },
   "source": [
    "import numpy as np\n",
    "import pandas as pd\n",
    "import torch\n",
    "\n",
    "import time\n",
    "\n",
    "import matplotlib.pyplot as plt\n",
    "\n",
    "from sklearn.model_selection import train_test_split\n",
    "\n",
    "from models.base_regressor import BaseRegressor\n",
    "import training as methods"
   ],
   "outputs": [
    {
     "name": "stdout",
     "output_type": "stream",
     "text": [
      "WARNING:tensorflow:From C:\\Users\\Arno\\.conda\\envs\\ml-2324\\lib\\site-packages\\keras\\src\\losses.py:2976: The name tf.losses.sparse_softmax_cross_entropy is deprecated. Please use tf.compat.v1.losses.sparse_softmax_cross_entropy instead.\n",
      "\n"
     ]
    }
   ],
   "execution_count": 1
  },
  {
   "metadata": {
    "ExecuteTime": {
     "end_time": "2024-05-14T08:05:13.610443Z",
     "start_time": "2024-05-14T08:03:55.557669Z"
    }
   },
   "cell_type": "code",
   "source": [
    "####################\n",
    "# LOADING THE DATA #\n",
    "####################\n",
    "SUBJECTS = ['AT', 'EL', 'HH', 'MS', 'RB', 'RL', 'TT']\n",
    "SCENES = ['FlatWalkStraight', 'FlatWalkCircular', 'FlatWalkStatic']\n",
    "TRIALS = ('all')\n",
    "\n",
    "gait_cycles = methods.read_gait_cycles(SUBJECTS, SCENES, TRIALS)"
   ],
   "id": "f4f114765d09a890",
   "outputs": [
    {
     "name": "stdout",
     "output_type": "stream",
     "text": [
      "Reading BW jogging_1.csv\n",
      "Reading BW jogging_2.csv\n",
      "Reading BW jogging_3.csv\n",
      "Reading BW jogging_4_badStep.csv\n",
      "Reading BW jogging_5.csv\n",
      "Reading BW jogging_6_badForcePlate.csv\n",
      "Reading BW jogging_7.csv\n",
      "Reading BW jogging_8.csv\n",
      "Reading Bw stop FW walking_1.csv\n",
      "Reading Bw stop FW walking_2.csv\n",
      "Reading Bw stop FW walking_3.csv\n",
      "Reading Bw stop FW walking_4.csv\n",
      "Reading Bw stop FW walking_5.csv\n",
      "Reading Bw stop FW walking_6.csv\n",
      "Reading Bw stop FW walking_7.csv\n",
      "Reading BW walking_1_badForcePlate.csv\n",
      "Reading BW walking_2.csv\n",
      "Reading BW walking_4.csv\n",
      "Reading BW walking_5.csv\n",
      "Reading BW walking_6_badForcePlate.csv\n",
      "Reading BW walking_7_badForcePlate.csv\n",
      "Reading BW walking_8.csv\n",
      "Reading BW-L walking_1.csv\n",
      "Reading BW-L walking_2_badForcePlate.csv\n",
      "Reading BW-L walking_3.csv\n",
      "Reading BW-L walking_4_badForcePlate.csv\n",
      "Reading BW-L walking_5_badForcePlate.csv\n",
      "Reading BW-R walking_1_badForcePlate.csv\n",
      "Reading BW-R walking_2.csv\n",
      "Reading BW-R walking_3.csv\n",
      "Reading BW-R walking_4.csv\n",
      "Reading BW-R walking_5.csv\n",
      "Reading BW-R walking_6.csv\n",
      "Reading FW jogging_1.csv\n",
      "Reading FW jogging_2.csv\n",
      "Reading FW jogging_3.csv\n",
      "Reading FW jogging_4.csv\n",
      "Reading FW stop 180 FW walking_1.csv\n",
      "Reading FW stop 180 FW walking_2_badForcePlate.csv\n",
      "Reading FW stop 180 FW walking_3_badForcePlate.csv\n",
      "Reading FW stop 180 FW walking_4_badForcePlate.csv\n",
      "Reading FW stop 180 FW walking_5_badForcePlate.csv\n",
      "Reading FW stop 180 FW walking_6_badForcePlate.csv\n",
      "Reading FW stop 180 FW walking_7_badForcePlate.csv\n",
      "Reading FW stop BW walking_1_badForcePlate.csv\n",
      "Reading FW stop BW walking_2.csv\n",
      "Reading FW stop BW walking_3.csv\n",
      "Reading FW stop BW walking_4_badMarker.csv\n",
      "Reading FW stop BW walking_5.csv\n",
      "Reading FW stop BW walking_6.csv\n",
      "Reading FW stop BW walking_7_badForcePlate.csv\n",
      "Reading FW walking_1.csv\n",
      "Reading FW walking_2.csv\n",
      "Reading FW walking_3.csv\n",
      "Reading FW walking_4_badForcePlate.csv\n",
      "Reading FW walking_5.csv\n",
      "Reading FW walking_6.csv\n",
      "Reading FW-L jogging_1.csv\n",
      "Reading FW-L jogging_2.csv\n",
      "Reading FW-L jogging_3.csv\n",
      "Reading FW-L jogging_4.csv\n",
      "Reading FW-L jogging_5.csv\n",
      "Reading FW-L jogging_6.csv\n",
      "Reading FW-L walking_1.csv\n",
      "Reading FW-L walking_2.csv\n",
      "Reading FW-L walking_3.csv\n",
      "Reading FW-L walking_4.csv\n",
      "Reading FW-L walking_5.csv\n",
      "Reading FW-L walking_6.csv\n",
      "Reading FW-R jogging_1.csv\n",
      "Reading FW-R jogging_2_badMarker_badForcePlate.csv\n",
      "Reading FW-R jogging_3.csv\n",
      "Reading FW-R jogging_4_badMarker_badForcePlate.csv\n",
      "Reading FW-R jogging_5_badForcePlate.csv\n",
      "Reading FW-R jogging_6_badMarker_badForcePlate.csv\n",
      "Reading FW-R walking_1.csv\n",
      "Reading FW-R walking_2_badForcePlate.csv\n",
      "Reading FW-R walking_3_badForcePlate.csv\n",
      "Reading FW-R walking_4_badForcePlate.csv\n",
      "Reading FW-R walking_5_badForcePlate.csv\n",
      "Reading FW-R walking_6_badForcePlate.csv\n",
      "Reading Pirouet 360_1.csv\n",
      "Reading Pirouet 360_2.csv\n",
      "Reading Pirouet 360_3.csv\n",
      "Reading Pirouet 360_4.csv\n",
      "Reading Pirouet 360_5.csv\n",
      "Reading Pirouet 360_6.csv\n",
      "Reading Pirouet 360_7.csv\n",
      "Reading Pirouet 360_8_badForcePlate.csv\n",
      "Reading Sidestepping fast_1.csv\n",
      "Reading Sidestepping fast_10.csv\n",
      "Reading Sidestepping fast_11.csv\n",
      "Reading Sidestepping fast_12.csv\n",
      "Reading Sidestepping fast_4.csv\n",
      "Reading Sidestepping fast_5.csv\n",
      "Reading Sidestepping fast_6.csv\n",
      "Reading Sidestepping fast_7.csv\n",
      "Reading Sidestepping fast_8.csv\n",
      "Reading Sidestepping fast_9.csv\n",
      "Reading Sidestepping normal_1.csv\n",
      "Reading Sidestepping normal_10.csv\n",
      "Reading Sidestepping normal_2.csv\n",
      "Reading Sidestepping normal_3.csv\n",
      "Reading Sidestepping normal_4.csv\n",
      "Reading Sidestepping normal_5.csv\n",
      "Reading Sidestepping normal_6.csv\n",
      "Reading Sidestepping normal_7.csv\n",
      "Reading Sidestepping normal_8.csv\n",
      "Reading Sidestepping normal_9.csv\n",
      "Reading BW jogging_1_badForcePlate.csv\n",
      "Reading BW jogging_2_badForcePlate.csv\n",
      "Reading BW jogging_3.csv\n",
      "Reading BW jogging_4.csv\n",
      "Reading BW jogging_5.csv\n",
      "Reading BW jogging_6.csv\n",
      "Reading Bw stop FW walking_1.csv\n",
      "Reading Bw stop FW walking_2.csv\n",
      "Reading Bw stop FW walking_3_badForcePlate.csv\n",
      "Reading Bw stop FW walking_4.csv\n",
      "Reading Bw stop FW walking_5.csv\n",
      "Reading Bw stop FW walking_6.csv\n",
      "Reading BW walking_1.csv\n",
      "Reading BW walking_2.csv\n",
      "Reading BW walking_3_badForcePlate.csv\n",
      "Reading BW walking_4.csv\n",
      "Reading BW walking_5.csv\n",
      "Reading BW walking_6.csv\n",
      "Reading BW-L walking_1.csv\n",
      "Reading BW-L walking_2_badForcePlate.csv\n",
      "Reading BW-L walking_3_badForcePlate.csv\n",
      "Reading BW-L walking_4_badForcePlate.csv\n",
      "Reading BW-L walking_5_badForcePlate.csv\n",
      "Reading BW-L walking_6_badForcePlate.csv\n",
      "Reading BW-R walking_1.csv\n",
      "Reading BW-R walking_2.csv\n",
      "Reading BW-R walking_3.csv\n",
      "Reading BW-R walking_4.csv\n",
      "Reading BW-R walking_5.csv\n",
      "Reading BW-R walking_6.csv\n",
      "Reading BW-R walking_7.csv\n",
      "Reading BW-R walking_8.csv\n",
      "Reading FW jogging_1_badForcePlate.csv\n",
      "Reading FW jogging_2.csv\n",
      "Reading FW jogging_3.csv\n",
      "Reading FW jogging_4.csv\n",
      "Reading FW jogging_5.csv\n",
      "Reading FW jogging_6.csv\n",
      "Reading FW stop 180 FW walking_1.csv\n",
      "Reading FW stop 180 FW walking_2.csv\n",
      "Reading FW stop 180 FW walking_3_badForcePlate.csv\n",
      "Reading FW stop 180 FW walking_4.csv\n",
      "Reading FW stop 180 FW walking_5.csv\n",
      "Reading FW stop 180 FW walking_6.csv\n",
      "Reading FW stop BW walking_1_badForcePlate.csv\n",
      "Reading FW stop BW walking_2.csv\n",
      "Reading FW stop BW walking_3.csv\n",
      "Reading FW stop BW walking_4.csv\n",
      "Reading FW stop BW walking_5_badForcePlate.csv\n",
      "Reading FW stop BW walking_6.csv\n",
      "Reading FW walking_1.csv\n",
      "Reading FW walking_2.csv\n",
      "Reading FW walking_3.csv\n",
      "Reading FW walking_4.csv\n",
      "Reading FW walking_5.csv\n",
      "Reading FW walking_6.csv\n",
      "Reading FW-L jogging_1.csv\n",
      "Reading FW-L jogging_2.csv\n",
      "Reading FW-L jogging_3.csv\n",
      "Reading FW-L jogging_4.csv\n",
      "Reading FW-L jogging_5.csv\n",
      "Reading FW-L jogging_6.csv\n",
      "Reading FW-L jogging_7.csv\n",
      "Reading FW-L walking_1.csv\n",
      "Reading FW-L walking_2_badForcePlate.csv\n",
      "Reading FW-L walking_3_badForcePlate_badStep.csv\n",
      "Reading FW-L walking_4.csv\n",
      "Reading FW-L walking_5.csv\n",
      "Reading FW-L walking_6.csv\n",
      "Reading FW-R jogging_1_badForcePlate.csv\n",
      "Reading FW-R jogging_2_badForcePlate.csv\n",
      "Reading FW-R jogging_3_badForcePlate.csv\n",
      "Reading FW-R jogging_4_badForcePlate.csv\n",
      "Reading FW-R jogging_5.csv\n",
      "Reading FW-R jogging_6_badForcePlate.csv\n",
      "Reading FW-R walking_1_badForcePlate.csv\n",
      "Reading FW-R walking_2_badForcePlate.csv\n",
      "Reading FW-R walking_3.csv\n",
      "Reading FW-R walking_4.csv\n",
      "Reading FW-R walking_5_badForcePlate.csv\n",
      "Reading FW-R walking_6.csv\n",
      "Reading FW-R walking_7_badForcePlate.csv\n",
      "Reading Pirouet 360_1.csv\n",
      "Reading Pirouet 360_2.csv\n",
      "Reading Pirouet 360_3.csv\n",
      "Reading Pirouet 360_4.csv\n",
      "Reading Pirouet 360_5.csv\n",
      "Reading Pirouet 360_6.csv\n",
      "Reading Sidestepping fast_1.csv\n",
      "Reading Sidestepping fast_10.csv\n",
      "Reading Sidestepping fast_2.csv\n",
      "Reading Sidestepping fast_3.csv\n",
      "Reading Sidestepping fast_4.csv\n",
      "Reading Sidestepping fast_5.csv\n",
      "Reading Sidestepping fast_6.csv\n",
      "Reading Sidestepping fast_7.csv\n",
      "Reading Sidestepping fast_8.csv\n",
      "Reading Sidestepping fast_9.csv\n",
      "Reading Sidestepping normal_1.csv\n",
      "Reading Sidestepping normal_2.csv\n",
      "Reading Sidestepping normal_3.csv\n",
      "Reading Sidestepping normal_4.csv\n",
      "Reading Sidestepping normal_5.csv\n",
      "Reading Sidestepping normal_6.csv\n",
      "Reading BW jogging_1.csv\n",
      "Reading BW jogging_2.csv\n",
      "Reading BW jogging_3.csv\n",
      "Reading BW jogging_4_badForcePlate.csv\n",
      "Reading Bw stop FW walking_1_badForcePlate.csv\n",
      "Reading Bw stop FW walking_2_badForcePlate.csv\n",
      "Reading Bw stop FW walking_3.csv\n",
      "Reading Bw stop FW walking_4_badForcePlate.csv\n",
      "Reading Bw stop FW walking_5.csv\n",
      "Reading BW walking_1.csv\n",
      "Reading BW walking_2.csv\n",
      "Reading BW walking_3.csv\n",
      "Reading BW walking_4.csv\n",
      "Reading BW walking_5_badForcePlate.csv\n",
      "Reading BW walking_6_badForcePlate.csv\n",
      "Reading BW-L walking_1.csv\n",
      "Reading BW-L walking_2.csv\n",
      "Reading BW-L walking_3_badForcePlate.csv\n",
      "Reading BW-L walking_4_badForcePlate.csv\n",
      "Reading BW-R walking_1.csv\n",
      "Reading BW-R walking_2.csv\n",
      "Reading BW-R walking_3.csv\n",
      "Reading BW-R walking_4.csv\n",
      "Reading FW jogging_1.csv\n",
      "Reading FW jogging_2.csv\n",
      "Reading FW jogging_3.csv\n",
      "Reading FW jogging_4.csv\n",
      "Reading FW jogging_5_badForcePlate.csv\n",
      "Reading FW jogging_6.csv\n",
      "Reading FW stop 180 FW walking_2_badForcePlate.csv\n",
      "Reading FW stop 180 FW walking_3.csv\n",
      "Reading FW stop 180 FW walking_4.csv\n",
      "Reading FW stop 180 FW walking_5_badForcePlate.csv\n",
      "Reading FW stop BW walking_1_badForcePlate.csv\n",
      "Reading FW stop BW walking_2.csv\n",
      "Reading FW stop BW walking_3.csv\n",
      "Reading FW stop BW walking_4.csv\n",
      "Reading FW walking_1.csv\n",
      "Reading FW walking_2.csv\n",
      "Reading FW walking_3.csv\n",
      "Reading FW walking_4_badForcePlate.csv\n",
      "Reading FW walking_5.csv\n",
      "Reading FW walking_6_badForcePlate.csv\n",
      "Reading FW-L jogging_1.csv\n",
      "Reading FW-L jogging_2_badForcePlate.csv\n",
      "Reading FW-L jogging_3_badForcePlate.csv\n",
      "Reading FW-L jogging_4_badForcePlate.csv\n",
      "Reading FW-L jogging_5_badForcePlate.csv\n",
      "Reading FW-L jogging_6_badForcePlate.csv\n",
      "Reading FW-L walking_1.csv\n",
      "Reading FW-L walking_2_badForcePlate.csv\n",
      "Reading FW-L walking_3.csv\n",
      "Reading FW-L walking_4.csv\n",
      "Reading FW-L walking_5.csv\n",
      "Reading FW-L walking_6_badForcePlate.csv\n",
      "Reading FW-R jogging_1.csv\n",
      "Reading FW-R jogging_2.csv\n",
      "Reading FW-R jogging_3_badForcePlate.csv\n",
      "Reading FW-R jogging_4_badForcePlate.csv\n",
      "Reading FW-R jogging_5_badForcePlate.csv\n",
      "Reading FW-R jogging_6.csv\n",
      "Reading FW-R walking_1.csv\n",
      "Reading FW-R walking_2.csv\n",
      "Reading FW-R walking_3.csv\n",
      "Reading FW-R walking_4.csv\n",
      "Reading FW-R walking_5.csv\n",
      "Reading FW-R walking_6.csv\n",
      "Reading Pirouet 360_1.csv\n",
      "Reading Pirouet 360_2_badForcePlate.csv\n",
      "Reading Pirouet 360_3.csv\n",
      "Reading Pirouet 360_4.csv\n",
      "Reading Pirouet 360_5_badForcePlate.csv\n",
      "Reading Pirouet 360_6.csv\n",
      "Reading Sidestepping fast_1.csv\n",
      "Reading Sidestepping fast_2.csv\n",
      "Reading Sidestepping fast_3.csv\n",
      "Reading Sidestepping fast_4.csv\n",
      "Reading Sidestepping fast_5.csv\n",
      "Reading Sidestepping fast_6_badForcePlate.csv\n",
      "Reading Sidestepping normal_1.csv\n",
      "Reading Sidestepping normal_3_badForcePlate.csv\n",
      "Reading Sidestepping normal_5_badForcePlate.csv\n",
      "Reading Sidestepping normal_6_badForcePlate.csv\n",
      "Reading BW jogging_1.csv\n",
      "Reading BW jogging_2.csv\n",
      "Reading BW jogging_3.csv\n",
      "Reading BW jogging_4.csv\n",
      "Reading BW jogging_5_badStep.csv\n",
      "Reading Bw stop FW walking_1.csv\n",
      "Reading Bw stop FW walking_2_badForcePlate.csv\n",
      "Reading Bw stop FW walking_3_badForcePlate.csv\n",
      "Reading Bw stop FW walking_4_badForcePlate.csv\n",
      "Reading BW walking_1.csv\n",
      "Reading BW walking_2.csv\n",
      "Reading BW walking_3.csv\n",
      "Reading BW walking_4.csv\n",
      "Reading BW walking_5.csv\n",
      "Reading BW-L walking_1.csv\n",
      "Reading BW-L walking_2_badForcePlate.csv\n",
      "Reading BW-L walking_3.csv\n",
      "Reading BW-L walking_4.csv\n",
      "Reading BW-R walking_1.csv\n",
      "Reading BW-R walking_2.csv\n",
      "Reading BW-R walking_3.csv\n",
      "Reading BW-R walking_4.csv\n",
      "Reading FW jogging_1.csv\n",
      "Reading FW jogging_2.csv\n",
      "Reading FW jogging_3.csv\n",
      "Reading FW jogging_4.csv\n",
      "Reading FW jogging_5.csv\n",
      "Reading FW jogging_6_badForcePlate.csv\n",
      "Reading FW jogging_7.csv\n",
      "Reading FW jogging_8.csv\n",
      "Reading FW stop 180 FW walking_1.csv\n",
      "Reading FW stop 180 FW walking_2.csv\n",
      "Reading FW stop 180 FW walking_4.csv\n",
      "Reading FW stop 180 FW walking_5.csv\n",
      "Reading FW stop BW walking_1.csv\n",
      "Reading FW stop BW walking_2.csv\n",
      "Reading FW stop BW walking_3.csv\n",
      "Reading FW stop BW walking_4.csv\n",
      "Reading FW stop BW walking_5_badStep.csv\n",
      "Reading FW walking_1.csv\n",
      "Reading FW walking_2.csv\n",
      "Reading FW walking_3.csv\n",
      "Reading FW walking_4.csv\n",
      "Reading FW walking_5.csv\n",
      "Reading FW walking_6.csv\n",
      "Reading FW walking_7.csv\n",
      "Reading FW walking_8.csv\n",
      "Reading FW-L jogging_1.csv\n",
      "Reading FW-L jogging_2.csv\n",
      "Reading FW-L jogging_3.csv\n",
      "Reading FW-L jogging_4.csv\n",
      "Reading FW-L jogging_5.csv\n",
      "Reading FW-L jogging_6.csv\n",
      "Reading FW-L walking_1.csv\n",
      "Reading FW-L walking_2.csv\n",
      "Reading FW-L walking_3.csv\n",
      "Reading FW-L walking_4.csv\n",
      "Reading FW-L walking_5.csv\n",
      "Reading FW-L walking_6.csv\n",
      "Reading FW-R jogging_1_badForcePlate.csv\n",
      "Reading FW-R jogging_2_badForcePlate.csv\n",
      "Reading FW-R jogging_3.csv\n",
      "Reading FW-R jogging_4_badForcePlate.csv\n",
      "Reading FW-R jogging_5.csv\n",
      "Reading FW-R jogging_6_badForcePlate.csv\n",
      "Reading FW-R walking_1_badForcePlate.csv\n",
      "Reading FW-R walking_2.csv\n",
      "Reading FW-R walking_3.csv\n",
      "Reading FW-R walking_4.csv\n",
      "Reading FW-R walking_5_badForcePlate.csv\n",
      "Reading Pirouet 360_1.csv\n",
      "Reading Pirouet 360_2.csv\n",
      "Reading Pirouet 360_3.csv\n",
      "Reading Pirouet 360_4.csv\n",
      "Reading Pirouet 360_5.csv\n",
      "Reading Sidestepping fast_1.csv\n",
      "Reading Sidestepping fast_2.csv\n",
      "Reading Sidestepping fast_3.csv\n",
      "Reading Sidestepping fast_4.csv\n",
      "Reading Sidestepping fast_5.csv\n",
      "Reading Sidestepping fast_6.csv\n",
      "Reading Sidestepping normal_2.csv\n",
      "Reading Sidestepping normal_3.csv\n",
      "Reading Sidestepping normal_4.csv\n",
      "Reading BW jogging_1.csv\n",
      "Reading BW jogging_2.csv\n",
      "Reading BW jogging_3.csv\n",
      "Reading BW jogging_4.csv\n",
      "Reading BW jogging_5.csv\n",
      "Reading BW jogging_6_badForcePlate.csv\n",
      "Reading Bw stop FW walking_1.csv\n",
      "Reading Bw stop FW walking_2.csv\n",
      "Reading Bw stop FW walking_3.csv\n",
      "Reading Bw stop FW walking_4.csv\n",
      "Reading Bw stop FW walking_5.csv\n",
      "Reading BW walking_1.csv\n",
      "Reading BW walking_2.csv\n",
      "Reading BW walking_3.csv\n",
      "Reading BW walking_4.csv\n",
      "Reading BW walking_5.csv\n",
      "Reading BW walking_6.csv\n",
      "Reading BW-L walking_1.csv\n",
      "Reading BW-L walking_2_badForcePlate.csv\n",
      "Reading BW-L walking_3_badForcePlate.csv\n",
      "Reading BW-L walking_4_badForcePlate.csv\n",
      "Reading BW-L walking_5_badForcePlate.csv\n",
      "Reading BW-L walking_6_badForcePlate.csv\n",
      "Reading BW-L walking_7.csv\n",
      "Reading BW-R walking_1.csv\n",
      "Reading BW-R walking_2.csv\n",
      "Reading BW-R walking_3.csv\n",
      "Reading BW-R walking_4.csv\n",
      "Reading BW-R walking_5.csv\n",
      "Reading BW-R walking_6.csv\n",
      "Reading BW-R walking_7.csv\n",
      "Reading BW-R walking_8.csv\n",
      "Reading FW jogging_1.csv\n",
      "Reading FW jogging_2.csv\n",
      "Reading FW jogging_3.csv\n",
      "Reading FW jogging_4.csv\n",
      "Reading FW jogging_5_badForcePlate.csv\n",
      "Reading FW jogging_6.csv\n",
      "Reading FW jogging_7_badForcePlate.csv\n",
      "Reading FW jogging_8.csv\n",
      "Reading FW stop 180 FW walking_1.csv\n",
      "Reading FW stop 180 FW walking_2.csv\n",
      "Reading FW stop 180 FW walking_3.csv\n",
      "Reading FW stop 180 FW walking_4.csv\n",
      "Reading FW stop 180 FW walking_5.csv\n",
      "Reading FW stop BW walking_1.csv\n",
      "Reading FW stop BW walking_2.csv\n",
      "Reading FW stop BW walking_3.csv\n",
      "Reading FW stop BW walking_4.csv\n",
      "Reading FW stop BW walking_5.csv\n",
      "Reading FW stop BW walking_6.csv\n",
      "Reading FW stop BW walking_7.csv\n",
      "Reading FW stop BW walking_8.csv\n",
      "Reading FW walking_1.csv\n",
      "Reading FW walking_2.csv\n",
      "Reading FW walking_3.csv\n",
      "Reading FW walking_4_badForcePlate.csv\n",
      "Reading FW walking_5.csv\n",
      "Reading FW walking_6.csv\n",
      "Reading FW walking_7.csv\n",
      "Reading FW walking_8.csv\n",
      "Reading FW-L jogging_1.csv\n",
      "Reading FW-L jogging_2.csv\n",
      "Reading FW-L jogging_3.csv\n",
      "Reading FW-L jogging_4.csv\n",
      "Reading FW-L jogging_5.csv\n",
      "Reading FW-L jogging_6.csv\n",
      "Reading FW-L walking_1.csv\n",
      "Reading FW-L walking_10.csv\n",
      "Reading FW-L walking_2.csv\n",
      "Reading FW-L walking_3.csv\n",
      "Reading FW-L walking_4.csv\n",
      "Reading FW-L walking_5.csv\n",
      "Reading FW-L walking_6.csv\n",
      "Reading FW-L walking_7.csv\n",
      "Reading FW-L walking_8.csv\n",
      "Reading FW-L walking_9.csv\n",
      "Reading FW-R jogging_1_badForcePlate.csv\n",
      "Reading FW-R jogging_2.csv\n",
      "Reading FW-R jogging_3_badForcePlate.csv\n",
      "Reading FW-R jogging_4.csv\n",
      "Reading FW-R jogging_5_badForcePlate.csv\n",
      "Reading FW-R jogging_6.csv\n",
      "Reading FW-R walking_1_badForcePlate.csv\n",
      "Reading FW-R walking_2_badForcePlate.csv\n",
      "Reading FW-R walking_3.csv\n",
      "Reading FW-R walking_4.csv\n",
      "Reading FW-R walking_5_badForcePlate.csv\n",
      "Reading FW-R walking_6_badForcePlate.csv\n",
      "Reading Pirouet 360_1.csv\n",
      "Reading Pirouet 360_2.csv\n",
      "Reading Pirouet 360_3.csv\n",
      "Reading Pirouet 360_4_badForcePlate.csv\n",
      "Reading Pirouet 360_5.csv\n",
      "Reading Sidestepping fast_1.csv\n",
      "Reading Sidestepping fast_10.csv\n",
      "Reading Sidestepping fast_2.csv\n",
      "Reading Sidestepping fast_3.csv\n",
      "Reading Sidestepping fast_4.csv\n",
      "Reading Sidestepping fast_5.csv\n",
      "Reading Sidestepping fast_6.csv\n",
      "Reading Sidestepping fast_7.csv\n",
      "Reading Sidestepping fast_8.csv\n",
      "Reading Sidestepping fast_9.csv\n",
      "Reading Sidestepping normal_1.csv\n",
      "Reading Sidestepping normal_2.csv\n",
      "Reading Sidestepping normal_3.csv\n",
      "Reading Sidestepping normal_4.csv\n",
      "Reading Sidestepping normal_5.csv\n",
      "Reading BW jogging_1.csv\n",
      "Reading BW jogging_2.csv\n",
      "Reading BW jogging_3_badForcePlate.csv\n",
      "Reading BW jogging_4.csv\n",
      "Reading BW jogging_5_badMarker_badForcePlate.csv\n",
      "Reading Bw stop FW walking_1.csv\n",
      "Reading Bw stop FW walking_2.csv\n",
      "Reading Bw stop FW walking_3.csv\n",
      "Reading Bw stop FW walking_4.csv\n",
      "Reading Bw stop FW walking_5.csv\n",
      "Reading BW walking_1_badMarker_badStep.csv\n",
      "Reading BW walking_2.csv\n",
      "Reading BW walking_3.csv\n",
      "Reading BW walking_4.csv\n",
      "Reading BW-L walking_1.csv\n",
      "Reading BW-L walking_2.csv\n",
      "Reading BW-L walking_3.csv\n",
      "Reading BW-L walking_4_badForcePlate.csv\n",
      "Reading BW-L walking_5.csv\n",
      "Reading BW-R walking_1_badForcePlate_badStep.csv\n",
      "Reading BW-R walking_2.csv\n",
      "Reading BW-R walking_3.csv\n",
      "Reading BW-R walking_4.csv\n",
      "Reading BW-R walking_5_badForcePlate.csv\n",
      "Reading FW jogging_1.csv\n",
      "Reading FW jogging_2.csv\n",
      "Reading FW jogging_3.csv\n",
      "Reading FW jogging_4.csv\n",
      "Reading FW jogging_5_badForcePlate_badStep.csv\n",
      "Reading FW jogging_6_badForcePlate.csv\n",
      "Reading FW stop 180 FW walking_1.csv\n",
      "Reading FW stop 180 FW walking_2.csv\n",
      "Reading FW stop 180 FW walking_3.csv\n",
      "Reading FW stop 180 FW walking_4.csv\n",
      "Reading FW stop 180 FW walking_5.csv\n",
      "Reading FW stop BW walking_1_badStep.csv\n",
      "Reading FW stop BW walking_2.csv\n",
      "Reading FW stop BW walking_3.csv\n",
      "Reading FW stop BW walking_4.csv\n",
      "Reading FW stop BW walking_5.csv\n",
      "Reading FW stop BW walking_6.csv\n",
      "Reading FW walking_1.csv\n",
      "Reading FW walking_10.csv\n",
      "Reading FW walking_2.csv\n",
      "Reading FW walking_3.csv\n",
      "Reading FW walking_4.csv\n",
      "Reading FW walking_5.csv\n",
      "Reading FW walking_6.csv\n",
      "Reading FW walking_7_badForcePlate_badStep.csv\n",
      "Reading FW walking_8.csv\n",
      "Reading FW walking_9.csv\n",
      "Reading FW-L jogging_1.csv\n",
      "Reading FW-L jogging_2.csv\n",
      "Reading FW-L jogging_3.csv\n",
      "Reading FW-L jogging_4.csv\n",
      "Reading FW-L jogging_5.csv\n",
      "Reading FW-L jogging_6.csv\n",
      "Reading FW-L walking_1.csv\n",
      "Reading FW-L walking_2.csv\n",
      "Reading FW-L walking_3.csv\n",
      "Reading FW-L walking_4.csv\n",
      "Reading FW-L walking_5.csv\n",
      "Reading FW-L walking_6.csv\n",
      "Reading FW-R jogging_1_badForcePlate.csv\n",
      "Reading FW-R jogging_2_badMarker.csv\n",
      "Reading FW-R jogging_3.csv\n",
      "Reading FW-R jogging_4.csv\n",
      "Reading FW-R jogging_5.csv\n",
      "Reading FW-R jogging_6_badForcePlate_badStep.csv\n",
      "Reading FW-R walking_1.csv\n",
      "Reading FW-R walking_2_badForcePlate.csv\n",
      "Reading FW-R walking_3_badMarker.csv\n",
      "Reading FW-R walking_4_badForcePlate.csv\n",
      "Reading FW-R walking_5_badForcePlate.csv\n",
      "Reading FW-R walking_6_badForcePlate.csv\n",
      "Reading FW-R walking_7_badMarker_badForcePlate_badStep.csv\n",
      "Reading Pirouet 360_1.csv\n",
      "Reading Pirouet 360_2.csv\n",
      "Reading Pirouet 360_3.csv\n",
      "Reading Pirouet 360_4_badStep.csv\n",
      "Reading Pirouet 360_5_badMarker_badStep.csv\n",
      "Reading Sidestepping fast_1.csv\n",
      "Reading Sidestepping fast_3.csv\n",
      "Reading Sidestepping fast_4.csv\n",
      "Reading Sidestepping fast_5.csv\n",
      "Reading Sidestepping fast_6.csv\n",
      "Reading Sidestepping fast_7.csv\n",
      "Reading Sidestepping normal_3.csv\n",
      "Reading Sidestepping normal_4.csv\n",
      "Reading Sidestepping normal_5.csv\n",
      "Reading Sidestepping normal_6.csv\n",
      "Reading BW jogging_10.csv\n",
      "Reading BW jogging_2.csv\n",
      "Reading BW jogging_4_badForcePlate.csv\n",
      "Reading BW jogging_5_badForcePlate.csv\n",
      "Reading BW jogging_6.csv\n",
      "Reading BW jogging_9.csv\n",
      "Reading Bw stop FW walking_1.csv\n",
      "Reading Bw stop FW walking_10.csv\n",
      "Reading Bw stop FW walking_12_badForcePlate.csv\n",
      "Reading Bw stop FW walking_2.csv\n",
      "Reading Bw stop FW walking_3.csv\n",
      "Reading Bw stop FW walking_4.csv\n",
      "Reading Bw stop FW walking_5.csv\n",
      "Reading Bw stop FW walking_6.csv\n",
      "Reading Bw stop FW walking_7.csv\n",
      "Reading Bw stop FW walking_8.csv\n",
      "Reading Bw stop FW walking_9.csv\n",
      "Reading BW walking_1_badForcePlate_badStep.csv\n",
      "Reading BW walking_2_badForcePlate.csv\n",
      "Reading BW walking_3.csv\n",
      "Reading BW walking_6_badForcePlate_badStep.csv\n",
      "Reading BW walking_8_badForcePlate_badStep.csv\n",
      "Reading BW-L walking_1.csv\n",
      "Reading BW-L walking_10.csv\n",
      "Reading BW-L walking_11.csv\n",
      "Reading BW-L walking_2.csv\n",
      "Reading BW-L walking_3.csv\n",
      "Reading BW-L walking_4.csv\n",
      "Reading BW-L walking_5_badForcePlate_badStep.csv\n",
      "Reading BW-L walking_6.csv\n",
      "Reading BW-L walking_7_badForcePlate.csv\n",
      "Reading BW-L walking_8.csv\n",
      "Reading BW-L walking_9.csv\n",
      "Reading BW-R walking_1.csv\n",
      "Reading BW-R walking_2.csv\n",
      "Reading BW-R walking_3.csv\n",
      "Reading BW-R walking_4_badForcePlate.csv\n",
      "Reading BW-R walking_5.csv\n",
      "Reading BW-R walking_6.csv\n",
      "Reading BW-R walking_7.csv\n",
      "Reading FW jogging_1.csv\n",
      "Reading FW jogging_2.csv\n",
      "Reading FW jogging_3.csv\n",
      "Reading FW jogging_4.csv\n",
      "Reading FW jogging_5.csv\n",
      "Reading FW jogging_6.csv\n",
      "Reading FW jogging_7.csv\n",
      "Reading FW jogging_8.csv\n",
      "Reading FW stop 180 FW walking_1.csv\n",
      "Reading FW stop 180 FW walking_11.csv\n",
      "Reading FW stop 180 FW walking_12.csv\n",
      "Reading FW stop 180 FW walking_13.csv\n",
      "Reading FW stop 180 FW walking_14.csv\n",
      "Reading FW stop 180 FW walking_2.csv\n",
      "Reading FW stop 180 FW walking_5.csv\n",
      "Reading FW stop 180 FW walking_6.csv\n",
      "Reading FW stop BW walking_1.csv\n",
      "Reading FW stop BW walking_10.csv\n",
      "Reading FW stop BW walking_11.csv\n",
      "Reading FW stop BW walking_13.csv\n",
      "Reading FW stop BW walking_3.csv\n",
      "Reading FW stop BW walking_5.csv\n",
      "Reading FW stop BW walking_6.csv\n",
      "Reading FW stop BW walking_8.csv\n",
      "Reading FW walking_1_badForcePlate_badStep.csv\n",
      "Reading FW walking_2.csv\n",
      "Reading FW walking_3.csv\n",
      "Reading FW walking_4.csv\n",
      "Reading FW walking_5.csv\n",
      "Reading FW walking_6.csv\n",
      "Reading FW walking_7.csv\n",
      "Reading FW walking_8_badForcePlate.csv\n",
      "Reading FW-L jogging_1.csv\n",
      "Reading FW-L jogging_2.csv\n",
      "Reading FW-L jogging_3.csv\n",
      "Reading FW-L jogging_4_badStep.csv\n",
      "Reading FW-L jogging_5.csv\n",
      "Reading FW-L jogging_6.csv\n",
      "Reading FW-L walking_1.csv\n",
      "Reading FW-L walking_2.csv\n",
      "Reading FW-L walking_3.csv\n",
      "Reading FW-L walking_4.csv\n",
      "Reading FW-L walking_5.csv\n",
      "Reading FW-L walking_6.csv\n",
      "Reading FW-L walking_7.csv\n",
      "Reading FW-L walking_8.csv\n",
      "Reading FW-L walking_9.csv\n",
      "Reading FW-R jogging_1.csv\n",
      "Reading FW-R jogging_2.csv\n",
      "Reading FW-R jogging_3.csv\n",
      "Reading FW-R jogging_4.csv\n",
      "Reading FW-R jogging_5.csv\n",
      "Reading FW-R jogging_6.csv\n",
      "Reading FW-R jogging_7.csv\n",
      "Reading FW-R jogging_8.csv\n",
      "Reading FW-R walking_1.csv\n",
      "Reading FW-R walking_2.csv\n",
      "Reading FW-R walking_3.csv\n",
      "Reading FW-R walking_4.csv\n",
      "Reading FW-R walking_5.csv\n",
      "Reading FW-R walking_6_badForcePlate.csv\n",
      "Reading FW-R walking_7_badForcePlate.csv\n",
      "Reading FW-R walking_8.csv\n",
      "Reading FW-R walking_9.csv\n",
      "Reading Pirouet 360_1.csv\n",
      "Reading Pirouet 360_10.csv\n",
      "Reading Pirouet 360_2.csv\n",
      "Reading Pirouet 360_3.csv\n",
      "Reading Pirouet 360_4.csv\n",
      "Reading Pirouet 360_5.csv\n",
      "Reading Pirouet 360_6.csv\n",
      "Reading Pirouet 360_7_badForcePlate_badStep.csv\n",
      "Reading Pirouet 360_8.csv\n",
      "Reading Pirouet 360_9.csv\n",
      "Reading Sidestepping fast_1.csv\n",
      "Reading Sidestepping fast_2.csv\n",
      "Reading Sidestepping fast_3.csv\n",
      "Reading Sidestepping fast_4_badForcePlate_badStep.csv\n",
      "Reading Sidestepping fast_5.csv\n",
      "Reading Sidestepping normal_1.csv\n",
      "Reading Sidestepping normal_2.csv\n",
      "Reading Sidestepping normal_3.csv\n",
      "Reading Sidestepping normal_4_badForcePlate.csv\n",
      "Reading Sidestepping normal_5.csv\n",
      "Reading Sidestepping normal_6.csv\n",
      "Reading Sidestepping normal_7.csv\n",
      "Reading Sidestepping normal_8.csv\n"
     ]
    }
   ],
   "execution_count": 2
  },
  {
   "metadata": {
    "ExecuteTime": {
     "end_time": "2024-05-14T08:06:17.687640Z",
     "start_time": "2024-05-14T08:05:13.618430Z"
    }
   },
   "cell_type": "code",
   "source": [
    "##############################################\n",
    "# LEFT VS. RIGHT FOOT -> MAIN VS. OTHER FOOT #\n",
    "##############################################\n",
    "df_l, df_r = methods.homogenize(gait_cycles)\n",
    "df_homogenous = pd.concat([df_l, df_r])"
   ],
   "id": "6f259f3f7fc48026",
   "outputs": [],
   "execution_count": 3
  },
  {
   "metadata": {
    "ExecuteTime": {
     "end_time": "2024-05-14T08:06:19.744522Z",
     "start_time": "2024-05-14T08:06:17.690971Z"
    }
   },
   "cell_type": "code",
   "source": [
    "#############\n",
    "# FILTERING #\n",
    "#############\n",
    "df_filtered = methods.filter(df_homogenous)\n",
    "\n",
    "df_filtered.groupby(['trial'])['trial'].count()"
   ],
   "id": "34609b5194129f74",
   "outputs": [
    {
     "data": {
      "text/plain": [
       "trial\n",
       "BW jogging_1.csv                           211\n",
       "BW jogging_10.csv                           30\n",
       "BW jogging_1_badForcePlate.csv              22\n",
       "BW jogging_2.csv                           235\n",
       "BW jogging_2_badForcePlate.csv              24\n",
       "                                          ... \n",
       "Sidestepping normal_6.csv                  820\n",
       "Sidestepping normal_6_badForcePlate.csv    150\n",
       "Sidestepping normal_7.csv                  358\n",
       "Sidestepping normal_8.csv                  373\n",
       "Sidestepping normal_9.csv                  202\n",
       "Name: trial, Length: 249, dtype: int64"
      ]
     },
     "execution_count": 4,
     "metadata": {},
     "output_type": "execute_result"
    }
   ],
   "execution_count": 4
  },
  {
   "metadata": {
    "ExecuteTime": {
     "end_time": "2024-05-14T08:06:23.902345Z",
     "start_time": "2024-05-14T08:06:19.757522Z"
    }
   },
   "cell_type": "code",
   "source": [
    "import seaborn as sns\n",
    "\n",
    "plt.figure(figsize=(30, 10))\n",
    "corr = df_filtered.iloc[:, :62].corr()\n",
    "corr_dep = corr.iloc[0:4]\n",
    "cmap = sns.diverging_palette(260, 20, s=75, l=40, n=5, center=\"light\", as_cmap=True)\n",
    "sns.heatmap(corr_dep, cmap=cmap, center=0, annot=True, fmt='.2f', square=True, robust=True, cbar=False)\n",
    "\n",
    "plt.show()"
   ],
   "id": "439f1cd7ffef78d0",
   "outputs": [
    {
     "data": {
      "text/plain": [
       "<Figure size 3000x1000 with 1 Axes>"
      ],
      "image/png": "[encoded data removed]"
     },
     "metadata": {},
     "output_type": "display_data"
    }
   ],
   "execution_count": 5
  },
  {
   "metadata": {
    "ExecuteTime": {
     "end_time": "2024-05-14T08:06:24.430615Z",
     "start_time": "2024-05-14T08:06:23.907300Z"
    }
   },
   "cell_type": "code",
   "source": [
    "####################\n",
    "# TRAIN-TEST SPLIT #\n",
    "####################\n",
    "df_full_train, df_test = train_test_split(df_filtered, test_size=0.2, random_state=42, stratify=df_filtered['trial'])"
   ],
   "id": "b49c9fef512f2ab6",
   "outputs": [],
   "execution_count": 6
  },
  {
   "metadata": {
    "ExecuteTime": {
     "end_time": "2024-05-14T08:06:25.162002Z",
     "start_time": "2024-05-14T08:06:24.434606Z"
    }
   },
   "cell_type": "code",
   "source": [
    "############################\n",
    "# FEATURE/LABEL EXTRACTION #\n",
    "############################\n",
    "# Features\n",
    "X_full_train = methods.extract_features(df_full_train)\n",
    "X_test = methods.extract_features(df_test)\n",
    "\n",
    "print('X_full_train:', np.shape(X_full_train))\n",
    "\n",
    "# Labels\n",
    "Fx_full_train = df_full_train['Fx']\n",
    "Fy_full_train = df_full_train['Fy']\n",
    "Fz_full_train = df_full_train['Fz']\n",
    "M_full_train  = df_full_train['M']\n",
    "Fx_test = df_test['Fx']\n",
    "Fy_test = df_test['Fy']\n",
    "Fz_test = df_test['Fz']\n",
    "M_test  = df_test['M']\n",
    "\n",
    "print('Fx_full_train:', np.shape(Fx_full_train))\n",
    "\n",
    "# Partitions\n",
    "partition_full_train = df_full_train['trial']\n",
    "partition_test = df_test['trial']\n",
    "\n",
    "print('partition_full_train:', np.shape(partition_full_train))"
   ],
   "id": "914eae97bfe749a0",
   "outputs": [
    {
     "name": "stdout",
     "output_type": "stream",
     "text": [
      "X_full_train: (51884, 338)\n",
      "Fx_full_train: (51884,)\n",
      "partition_full_train: (51884,)\n"
     ]
    }
   ],
   "execution_count": 7
  },
  {
   "metadata": {
    "ExecuteTime": {
     "end_time": "2024-05-14T08:06:28.312552Z",
     "start_time": "2024-05-14T08:06:25.164367Z"
    }
   },
   "cell_type": "code",
   "source": [
    "DIR = '../results/' + time.strftime(\"%Y%m%d-%H%M%S/\", time.localtime())\n",
    "\n",
    "###############\n",
    "# PERFORM PCA #\n",
    "###############\n",
    "X_pc_full_train, X_pc_test = methods.perform_pca(X_full_train, X_test, DIR)\n",
    "nr_of_features = np.shape(X_pc_full_train)[1]"
   ],
   "id": "3cc8977d5935a7b",
   "outputs": [
    {
     "name": "stdout",
     "output_type": "stream",
     "text": [
      "Number of features before PCA 338\n",
      "Number of features after PCA 150\n"
     ]
    }
   ],
   "execution_count": 8
  },
  {
   "metadata": {
    "ExecuteTime": {
     "end_time": "2024-05-14T08:06:28.429451Z",
     "start_time": "2024-05-14T08:06:28.318535Z"
    }
   },
   "cell_type": "code",
   "source": [
    "######################\n",
    "# CONVERT TO TENSORS #\n",
    "######################\n",
    "# Features\n",
    "X_full_train_tensor = torch.tensor(X_pc_full_train, dtype=torch.float32)\n",
    "X_test_tensor       = torch.tensor(X_pc_test, dtype=torch.float32)\n",
    "\n",
    "# Labels\n",
    "Fx_full_train_tensor = torch.tensor(Fx_full_train.to_numpy().reshape((-1, 1)), dtype=torch.float32)\n",
    "Fy_full_train_tensor = torch.tensor(Fy_full_train.to_numpy().reshape((-1, 1)), dtype=torch.float32)\n",
    "Fz_full_train_tensor = torch.tensor(Fz_full_train.to_numpy().reshape((-1, 1)), dtype=torch.float32)\n",
    "M_full_train_tensor  = torch.tensor(M_full_train.to_numpy().reshape((-1, 1)), dtype=torch.float32)\n",
    "Fx_test_tensor = torch.tensor(Fx_test.to_numpy().reshape((-1, 1)), dtype=torch.float32)\n",
    "Fy_test_tensor = torch.tensor(Fy_test.to_numpy().reshape((-1, 1)), dtype=torch.float32)\n",
    "Fz_test_tensor = torch.tensor(Fz_test.to_numpy().reshape((-1, 1)), dtype=torch.float32)\n",
    "M_test_tensor  = torch.tensor(M_test.to_numpy().reshape((-1, 1)), dtype=torch.float32)"
   ],
   "id": "eeabd4afa38ebb04",
   "outputs": [],
   "execution_count": 9
  },
  {
   "metadata": {
    "ExecuteTime": {
     "end_time": "2024-05-14T08:06:38.785310Z",
     "start_time": "2024-05-14T08:06:28.441831Z"
    }
   },
   "cell_type": "code",
   "source": [
    "################\n",
    "# Fx REGRESSOR #\n",
    "################\n",
    "Fx_regressor = BaseRegressor(nr_of_features, [42])\n",
    "Fx_regressor.train_(X_full_train_tensor, Fx_full_train_tensor)\n",
    "\n",
    "# Evaluate the model\n",
    "Fx_regressor.eval()\n",
    "Fx_pred_tensor = Fx_regressor(X_test_tensor)\n",
    "methods.print_metrics(Fx_test_tensor, Fx_pred_tensor)\n",
    "\n",
    "Fx_regressor.save(DIR, 'Fx_base')"
   ],
   "id": "74ce64e0559a6cfc",
   "outputs": [
    {
     "name": "stdout",
     "output_type": "stream",
     "text": [
      "Performance on the test set:\n",
      "NRMSE = 0.0835\n",
      "r = 0.8867081785206263\n"
     ]
    },
    {
     "data": {
      "text/plain": [
       "<Figure size 300x300 with 1 Axes>"
      ],
      "image/png": "[encoded data removed]"
     },
     "metadata": {},
     "output_type": "display_data"
    }
   ],
   "execution_count": 10
  },
  {
   "metadata": {
    "ExecuteTime": {
     "end_time": "2024-05-14T08:06:47.412318Z",
     "start_time": "2024-05-14T08:06:38.790224Z"
    }
   },
   "cell_type": "code",
   "source": [
    "################\n",
    "# Fy REGRESSOR #\n",
    "################\n",
    "Fy_regressor = BaseRegressor(nr_of_features, [42])\n",
    "Fy_regressor.train_(X_full_train_tensor, Fy_full_train_tensor)\n",
    "\n",
    "# Evaluate the model\n",
    "Fy_regressor.eval()\n",
    "Fy_pred_tensor = Fy_regressor(X_test_tensor)\n",
    "methods.print_metrics(Fy_test_tensor, Fy_pred_tensor)\n",
    "\n",
    "Fy_regressor.save(DIR, 'Fy_base')"
   ],
   "id": "5dc07c9c5c998ed3",
   "outputs": [
    {
     "name": "stdout",
     "output_type": "stream",
     "text": [
      "Performance on the test set:\n",
      "NRMSE = 0.0782\n",
      "r = 0.8915082530477455\n"
     ]
    },
    {
     "data": {
      "text/plain": [
       "<Figure size 300x300 with 1 Axes>"
      ],
      "image/png": "[encoded data removed]"
     },
     "metadata": {},
     "output_type": "display_data"
    }
   ],
   "execution_count": 11
  },
  {
   "metadata": {
    "ExecuteTime": {
     "end_time": "2024-05-14T08:06:54.127396Z",
     "start_time": "2024-05-14T08:06:47.417320Z"
    }
   },
   "cell_type": "code",
   "source": [
    "################\n",
    "# Fz REGRESSOR #\n",
    "################\n",
    "Fz_regressor = BaseRegressor(nr_of_features, [42])\n",
    "Fz_regressor.train_(X_full_train_tensor, Fz_full_train_tensor)\n",
    "\n",
    "# Evaluate the model\n",
    "Fz_regressor.eval()\n",
    "Fz_pred_tensor = Fz_regressor(X_test_tensor)\n",
    "methods.print_metrics(Fz_test_tensor, Fz_pred_tensor)\n",
    "\n",
    "Fz_regressor.save(DIR, 'Fz_base')"
   ],
   "id": "ae1cb912b132bb92",
   "outputs": [
    {
     "name": "stdout",
     "output_type": "stream",
     "text": [
      "Performance on the test set:\n",
      "NRMSE = 0.0549\n",
      "r = 0.9764099690290133\n"
     ]
    },
    {
     "data": {
      "text/plain": [
       "<Figure size 300x300 with 1 Axes>"
      ],
      "image/png": "[encoded data removed]"
     },
     "metadata": {},
     "output_type": "display_data"
    }
   ],
   "execution_count": 12
  },
  {
   "metadata": {
    "ExecuteTime": {
     "end_time": "2024-05-14T08:07:05.598288Z",
     "start_time": "2024-05-14T08:06:54.131397Z"
    }
   },
   "cell_type": "code",
   "source": [
    "###############\n",
    "# M REGRESSOR #\n",
    "###############\n",
    "M_regressor = BaseRegressor(nr_of_features, [50])\n",
    "M_regressor.train_(X_full_train_tensor, M_full_train_tensor)\n",
    "\n",
    "# Evaluate the model\n",
    "M_regressor.eval()\n",
    "M_pred_tensor = M_regressor(X_test_tensor)\n",
    "methods.print_metrics(M_test_tensor, M_pred_tensor)\n",
    "\n",
    "M_regressor.save(DIR, 'M_base')"
   ],
   "id": "b3b44fa3e324a3c1",
   "outputs": [
    {
     "name": "stdout",
     "output_type": "stream",
     "text": [
      "Performance on the test set:\n",
      "NRMSE = 0.1349\n",
      "r = 0.6720619757946749\n"
     ]
    },
    {
     "data": {
      "text/plain": [
       "<Figure size 300x300 with 1 Axes>"
      ],
      "image/png": "[encoded data removed]"
     },
     "metadata": {},
     "output_type": "display_data"
    }
   ],
   "execution_count": 13
  },
  {
   "metadata": {
    "ExecuteTime": {
     "end_time": "2024-05-14T09:24:01.762204Z",
     "start_time": "2024-05-14T08:07:05.604638Z"
    }
   },
   "cell_type": "code",
   "source": [
    "import optuna\n",
    "\n",
    "##################\n",
    "# MODEL TRAINING #\n",
    "##################\n",
    "comp = 'Fy'\n",
    "K = 5\n",
    "\n",
    "# 1. Define an objective function to be maximized.\n",
    "def objective(trial):\n",
    "\n",
    "    # 2. Suggest values for the hyperparameters using a trial object.\n",
    "    ## a. Number of layers\n",
    "    n_layers = trial.suggest_int('hidden_layers', 1, 2)\n",
    "    \n",
    "    ## b. Number of neurons per layer\n",
    "    hidden_sizes = []\n",
    "    for i in range(n_layers):\n",
    "        size = trial.suggest_int(f'hidden_size_{i}', 2, 64)\n",
    "        hidden_sizes.append(size)\n",
    "    \n",
    "    # 3. Cross-validate the suggested model\n",
    "    l, r = methods.cross_validate(hidden_sizes, X_full_train, Fy_full_train, K, partition_full_train, DIR)\n",
    "    return np.mean(l)\n",
    "\n",
    "# 3. Create a study object and optimize the objective function.\n",
    "study = optuna.create_study(direction='minimize')\n",
    "study.optimize(objective, n_trials=50)"
   ],
   "id": "10c3250e05fb1be5",
   "outputs": [
    {
     "name": "stderr",
     "output_type": "stream",
     "text": [
      "[I 2024-05-14 10:07:07,348] A new study created in memory with name: no-name-a2c8c4d8-8613-4931-9af4-06546acf10fd\n"
     ]
    },
    {
     "name": "stdout",
     "output_type": "stream",
     "text": [
      "Fold #1\n",
      "Number of features before PCA 338\n",
      "Number of features after PCA 150\n",
      "Fold #2\n",
      "Number of features before PCA 338\n",
      "Number of features after PCA 150\n",
      "Fold #3\n",
      "Number of features before PCA 338\n",
      "Number of features after PCA 150\n",
      "Fold #4\n",
      "Number of features before PCA 338\n",
      "Number of features after PCA 150\n",
      "Fold #5\n",
      "Number of features before PCA 338\n",
      "Number of features after PCA 150\n"
     ]
    },
    {
     "name": "stderr",
     "output_type": "stream",
     "text": [
      "[I 2024-05-14 10:08:28,576] Trial 0 finished with value: 0.04130026325583458 and parameters: {'hidden_layers': 2, 'hidden_size_0': 64, 'hidden_size_1': 18}. Best is trial 0 with value: 0.04130026325583458.\n"
     ]
    },
    {
     "name": "stdout",
     "output_type": "stream",
     "text": [
      "Fold #1\n",
      "Number of features before PCA 338\n",
      "Number of features after PCA 150\n",
      "Fold #2\n",
      "Number of features before PCA 338\n",
      "Number of features after PCA 150\n",
      "Fold #3\n",
      "Number of features before PCA 338\n",
      "Number of features after PCA 150\n",
      "Fold #4\n",
      "Number of features before PCA 338\n",
      "Number of features after PCA 150\n",
      "Fold #5\n",
      "Number of features before PCA 338\n",
      "Number of features after PCA 150\n"
     ]
    },
    {
     "name": "stderr",
     "output_type": "stream",
     "text": [
      "[I 2024-05-14 10:09:48,122] Trial 1 finished with value: 0.0431279756128788 and parameters: {'hidden_layers': 2, 'hidden_size_0': 42, 'hidden_size_1': 63}. Best is trial 0 with value: 0.04130026325583458.\n"
     ]
    },
    {
     "name": "stdout",
     "output_type": "stream",
     "text": [
      "Fold #1\n",
      "Number of features before PCA 338\n",
      "Number of features after PCA 150\n",
      "Fold #2\n",
      "Number of features before PCA 338\n",
      "Number of features after PCA 150\n",
      "Fold #3\n",
      "Number of features before PCA 338\n",
      "Number of features after PCA 150\n",
      "Fold #4\n",
      "Number of features before PCA 338\n",
      "Number of features after PCA 150\n",
      "Fold #5\n",
      "Number of features before PCA 338\n",
      "Number of features after PCA 150\n"
     ]
    },
    {
     "name": "stderr",
     "output_type": "stream",
     "text": [
      "[I 2024-05-14 10:10:29,039] Trial 2 finished with value: 0.044636355340480806 and parameters: {'hidden_layers': 1, 'hidden_size_0': 41}. Best is trial 0 with value: 0.04130026325583458.\n"
     ]
    },
    {
     "name": "stdout",
     "output_type": "stream",
     "text": [
      "Fold #1\n",
      "Number of features before PCA 338\n",
      "Number of features after PCA 150\n",
      "Fold #2\n",
      "Number of features before PCA 338\n",
      "Number of features after PCA 150\n",
      "Fold #3\n",
      "Number of features before PCA 338\n",
      "Number of features after PCA 150\n",
      "Fold #4\n",
      "Number of features before PCA 338\n",
      "Number of features after PCA 150\n",
      "Fold #5\n",
      "Number of features before PCA 338\n",
      "Number of features after PCA 150\n"
     ]
    },
    {
     "name": "stderr",
     "output_type": "stream",
     "text": [
      "[I 2024-05-14 10:11:23,328] Trial 3 finished with value: 0.042705414444208147 and parameters: {'hidden_layers': 1, 'hidden_size_0': 53}. Best is trial 0 with value: 0.04130026325583458.\n"
     ]
    },
    {
     "name": "stdout",
     "output_type": "stream",
     "text": [
      "Fold #1\n",
      "Number of features before PCA 338\n",
      "Number of features after PCA 150\n",
      "Fold #2\n",
      "Number of features before PCA 338\n",
      "Number of features after PCA 150\n",
      "Fold #3\n",
      "Number of features before PCA 338\n",
      "Number of features after PCA 150\n",
      "Fold #4\n",
      "Number of features before PCA 338\n",
      "Number of features after PCA 150\n",
      "Fold #5\n",
      "Number of features before PCA 338\n",
      "Number of features after PCA 150\n"
     ]
    },
    {
     "name": "stderr",
     "output_type": "stream",
     "text": [
      "[I 2024-05-14 10:12:26,111] Trial 4 finished with value: 0.039818762242794035 and parameters: {'hidden_layers': 2, 'hidden_size_0': 57, 'hidden_size_1': 21}. Best is trial 4 with value: 0.039818762242794035.\n"
     ]
    },
    {
     "name": "stdout",
     "output_type": "stream",
     "text": [
      "Fold #1\n",
      "Number of features before PCA 338\n",
      "Number of features after PCA 150\n",
      "Fold #2\n",
      "Number of features before PCA 338\n",
      "Number of features after PCA 150\n",
      "Fold #3\n",
      "Number of features before PCA 338\n",
      "Number of features after PCA 150\n",
      "Fold #4\n",
      "Number of features before PCA 338\n",
      "Number of features after PCA 150\n",
      "Fold #5\n",
      "Number of features before PCA 338\n",
      "Number of features after PCA 150\n"
     ]
    },
    {
     "name": "stderr",
     "output_type": "stream",
     "text": [
      "[I 2024-05-14 10:13:21,789] Trial 5 finished with value: 0.048905526846647264 and parameters: {'hidden_layers': 2, 'hidden_size_0': 17, 'hidden_size_1': 18}. Best is trial 4 with value: 0.039818762242794035.\n"
     ]
    },
    {
     "name": "stdout",
     "output_type": "stream",
     "text": [
      "Fold #1\n",
      "Number of features before PCA 338\n",
      "Number of features after PCA 150\n",
      "Fold #2\n",
      "Number of features before PCA 338\n",
      "Number of features after PCA 150\n",
      "Fold #3\n",
      "Number of features before PCA 338\n",
      "Number of features after PCA 150\n",
      "Fold #4\n",
      "Number of features before PCA 338\n",
      "Number of features after PCA 150\n",
      "Fold #5\n",
      "Number of features before PCA 338\n",
      "Number of features after PCA 150\n"
     ]
    },
    {
     "name": "stderr",
     "output_type": "stream",
     "text": [
      "[I 2024-05-14 10:14:23,741] Trial 6 finished with value: 0.04394446387887001 and parameters: {'hidden_layers': 1, 'hidden_size_0': 44}. Best is trial 4 with value: 0.039818762242794035.\n"
     ]
    },
    {
     "name": "stdout",
     "output_type": "stream",
     "text": [
      "Fold #1\n",
      "Number of features before PCA 338\n",
      "Number of features after PCA 150\n",
      "Fold #2\n",
      "Number of features before PCA 338\n",
      "Number of features after PCA 150\n",
      "Fold #3\n",
      "Number of features before PCA 338\n",
      "Number of features after PCA 150\n",
      "Fold #4\n",
      "Number of features before PCA 338\n",
      "Number of features after PCA 150\n",
      "Fold #5\n",
      "Number of features before PCA 338\n",
      "Number of features after PCA 150\n"
     ]
    },
    {
     "name": "stderr",
     "output_type": "stream",
     "text": [
      "[I 2024-05-14 10:15:22,063] Trial 7 finished with value: 0.0403658002614975 and parameters: {'hidden_layers': 2, 'hidden_size_0': 55, 'hidden_size_1': 14}. Best is trial 4 with value: 0.039818762242794035.\n"
     ]
    },
    {
     "name": "stdout",
     "output_type": "stream",
     "text": [
      "Fold #1\n",
      "Number of features before PCA 338\n",
      "Number of features after PCA 150\n",
      "Fold #2\n",
      "Number of features before PCA 338\n",
      "Number of features after PCA 150\n",
      "Fold #3\n",
      "Number of features before PCA 338\n",
      "Number of features after PCA 150\n",
      "Fold #4\n",
      "Number of features before PCA 338\n",
      "Number of features after PCA 150\n",
      "Fold #5\n",
      "Number of features before PCA 338\n",
      "Number of features after PCA 150\n"
     ]
    },
    {
     "name": "stderr",
     "output_type": "stream",
     "text": [
      "[I 2024-05-14 10:16:04,628] Trial 8 finished with value: 0.04982770010828972 and parameters: {'hidden_layers': 1, 'hidden_size_0': 18}. Best is trial 4 with value: 0.039818762242794035.\n"
     ]
    },
    {
     "name": "stdout",
     "output_type": "stream",
     "text": [
      "Fold #1\n",
      "Number of features before PCA 338\n",
      "Number of features after PCA 150\n",
      "Fold #2\n",
      "Number of features before PCA 338\n",
      "Number of features after PCA 150\n",
      "Fold #3\n",
      "Number of features before PCA 338\n",
      "Number of features after PCA 150\n",
      "Fold #4\n",
      "Number of features before PCA 338\n",
      "Number of features after PCA 150\n",
      "Fold #5\n",
      "Number of features before PCA 338\n",
      "Number of features after PCA 150\n"
     ]
    },
    {
     "name": "stderr",
     "output_type": "stream",
     "text": [
      "[I 2024-05-14 10:17:00,290] Trial 9 finished with value: 0.044765043258666995 and parameters: {'hidden_layers': 1, 'hidden_size_0': 44}. Best is trial 4 with value: 0.039818762242794035.\n"
     ]
    },
    {
     "name": "stdout",
     "output_type": "stream",
     "text": [
      "Fold #1\n",
      "Number of features before PCA 338\n",
      "Number of features after PCA 150\n",
      "Fold #2\n",
      "Number of features before PCA 338\n",
      "Number of features after PCA 150\n",
      "Fold #3\n",
      "Number of features before PCA 338\n",
      "Number of features after PCA 150\n",
      "Fold #4\n",
      "Number of features before PCA 338\n",
      "Number of features after PCA 150\n",
      "Fold #5\n",
      "Number of features before PCA 338\n",
      "Number of features after PCA 150\n"
     ]
    },
    {
     "name": "stderr",
     "output_type": "stream",
     "text": [
      "[I 2024-05-14 10:17:51,361] Trial 10 finished with value: 0.06761133000254631 and parameters: {'hidden_layers': 2, 'hidden_size_0': 2, 'hidden_size_1': 42}. Best is trial 4 with value: 0.039818762242794035.\n"
     ]
    },
    {
     "name": "stdout",
     "output_type": "stream",
     "text": [
      "Fold #1\n",
      "Number of features before PCA 338\n",
      "Number of features after PCA 150\n",
      "Fold #2\n",
      "Number of features before PCA 338\n",
      "Number of features after PCA 150\n",
      "Fold #3\n",
      "Number of features before PCA 338\n",
      "Number of features after PCA 150\n",
      "Fold #4\n",
      "Number of features before PCA 338\n",
      "Number of features after PCA 150\n",
      "Fold #5\n",
      "Number of features before PCA 338\n",
      "Number of features after PCA 150\n"
     ]
    },
    {
     "name": "stderr",
     "output_type": "stream",
     "text": [
      "[I 2024-05-14 10:18:58,227] Trial 11 finished with value: 0.0572939544916153 and parameters: {'hidden_layers': 2, 'hidden_size_0': 64, 'hidden_size_1': 2}. Best is trial 4 with value: 0.039818762242794035.\n"
     ]
    },
    {
     "name": "stdout",
     "output_type": "stream",
     "text": [
      "Fold #1\n",
      "Number of features before PCA 338\n",
      "Number of features after PCA 150\n",
      "Fold #2\n",
      "Number of features before PCA 338\n",
      "Number of features after PCA 150\n",
      "Fold #3\n",
      "Number of features before PCA 338\n",
      "Number of features after PCA 150\n",
      "Fold #4\n",
      "Number of features before PCA 338\n",
      "Number of features after PCA 150\n",
      "Fold #5\n",
      "Number of features before PCA 338\n",
      "Number of features after PCA 150\n"
     ]
    },
    {
     "name": "stderr",
     "output_type": "stream",
     "text": [
      "[I 2024-05-14 10:20:15,803] Trial 12 finished with value: 0.04422357976436615 and parameters: {'hidden_layers': 2, 'hidden_size_0': 55, 'hidden_size_1': 21}. Best is trial 4 with value: 0.039818762242794035.\n"
     ]
    },
    {
     "name": "stdout",
     "output_type": "stream",
     "text": [
      "Fold #1\n",
      "Number of features before PCA 338\n",
      "Number of features after PCA 150\n",
      "Fold #2\n",
      "Number of features before PCA 338\n",
      "Number of features after PCA 150\n",
      "Fold #3\n",
      "Number of features before PCA 338\n",
      "Number of features after PCA 150\n",
      "Fold #4\n",
      "Number of features before PCA 338\n",
      "Number of features after PCA 150\n",
      "Fold #5\n",
      "Number of features before PCA 338\n",
      "Number of features after PCA 150\n"
     ]
    },
    {
     "name": "stderr",
     "output_type": "stream",
     "text": [
      "[I 2024-05-14 10:20:57,673] Trial 13 finished with value: 0.056513530761003496 and parameters: {'hidden_layers': 2, 'hidden_size_0': 27, 'hidden_size_1': 4}. Best is trial 4 with value: 0.039818762242794035.\n"
     ]
    },
    {
     "name": "stdout",
     "output_type": "stream",
     "text": [
      "Fold #1\n",
      "Number of features before PCA 338\n",
      "Number of features after PCA 150\n",
      "Fold #2\n",
      "Number of features before PCA 338\n",
      "Number of features after PCA 150\n",
      "Fold #3\n",
      "Number of features before PCA 338\n",
      "Number of features after PCA 150\n",
      "Fold #4\n",
      "Number of features before PCA 338\n",
      "Number of features after PCA 150\n",
      "Fold #5\n",
      "Number of features before PCA 338\n",
      "Number of features after PCA 150\n"
     ]
    },
    {
     "name": "stderr",
     "output_type": "stream",
     "text": [
      "[I 2024-05-14 10:22:26,715] Trial 14 finished with value: 0.0402137964963913 and parameters: {'hidden_layers': 2, 'hidden_size_0': 58, 'hidden_size_1': 35}. Best is trial 4 with value: 0.039818762242794035.\n"
     ]
    },
    {
     "name": "stdout",
     "output_type": "stream",
     "text": [
      "Fold #1\n",
      "Number of features before PCA 338\n",
      "Number of features after PCA 150\n",
      "Fold #2\n",
      "Number of features before PCA 338\n",
      "Number of features after PCA 150\n",
      "Fold #3\n",
      "Number of features before PCA 338\n",
      "Number of features after PCA 150\n",
      "Fold #4\n",
      "Number of features before PCA 338\n",
      "Number of features after PCA 150\n",
      "Fold #5\n",
      "Number of features before PCA 338\n",
      "Number of features after PCA 150\n"
     ]
    },
    {
     "name": "stderr",
     "output_type": "stream",
     "text": [
      "[I 2024-05-14 10:23:28,204] Trial 15 finished with value: 0.0433466911315918 and parameters: {'hidden_layers': 2, 'hidden_size_0': 32, 'hidden_size_1': 37}. Best is trial 4 with value: 0.039818762242794035.\n"
     ]
    },
    {
     "name": "stdout",
     "output_type": "stream",
     "text": [
      "Fold #1\n",
      "Number of features before PCA 338\n",
      "Number of features after PCA 150\n",
      "Fold #2\n",
      "Number of features before PCA 338\n",
      "Number of features after PCA 150\n",
      "Fold #3\n",
      "Number of features before PCA 338\n",
      "Number of features after PCA 150\n",
      "Fold #4\n",
      "Number of features before PCA 338\n",
      "Number of features after PCA 150\n",
      "Fold #5\n",
      "Number of features before PCA 338\n",
      "Number of features after PCA 150\n"
     ]
    },
    {
     "name": "stderr",
     "output_type": "stream",
     "text": [
      "[I 2024-05-14 10:24:58,691] Trial 16 finished with value: 0.0413757786154747 and parameters: {'hidden_layers': 2, 'hidden_size_0': 52, 'hidden_size_1': 46}. Best is trial 4 with value: 0.039818762242794035.\n"
     ]
    },
    {
     "name": "stdout",
     "output_type": "stream",
     "text": [
      "Fold #1\n",
      "Number of features before PCA 338\n",
      "Number of features after PCA 150\n",
      "Fold #2\n",
      "Number of features before PCA 338\n",
      "Number of features after PCA 150\n",
      "Fold #3\n",
      "Number of features before PCA 338\n",
      "Number of features after PCA 150\n",
      "Fold #4\n",
      "Number of features before PCA 338\n",
      "Number of features after PCA 150\n",
      "Fold #5\n",
      "Number of features before PCA 338\n",
      "Number of features after PCA 150\n"
     ]
    },
    {
     "name": "stderr",
     "output_type": "stream",
     "text": [
      "[I 2024-05-14 10:26:33,672] Trial 17 finished with value: 0.03928611502051353 and parameters: {'hidden_layers': 2, 'hidden_size_0': 60, 'hidden_size_1': 30}. Best is trial 17 with value: 0.03928611502051353.\n"
     ]
    },
    {
     "name": "stdout",
     "output_type": "stream",
     "text": [
      "Fold #1\n",
      "Number of features before PCA 338\n",
      "Number of features after PCA 150\n",
      "Fold #2\n",
      "Number of features before PCA 338\n",
      "Number of features after PCA 150\n",
      "Fold #3\n",
      "Number of features before PCA 338\n",
      "Number of features after PCA 150\n",
      "Fold #4\n",
      "Number of features before PCA 338\n",
      "Number of features after PCA 150\n",
      "Fold #5\n",
      "Number of features before PCA 338\n",
      "Number of features after PCA 150\n"
     ]
    },
    {
     "name": "stderr",
     "output_type": "stream",
     "text": [
      "[I 2024-05-14 10:27:45,956] Trial 18 finished with value: 0.040346410125494 and parameters: {'hidden_layers': 2, 'hidden_size_0': 48, 'hidden_size_1': 26}. Best is trial 17 with value: 0.03928611502051353.\n"
     ]
    },
    {
     "name": "stdout",
     "output_type": "stream",
     "text": [
      "Fold #1\n",
      "Number of features before PCA 338\n",
      "Number of features after PCA 150\n",
      "Fold #2\n",
      "Number of features before PCA 338\n",
      "Number of features after PCA 150\n",
      "Fold #3\n",
      "Number of features before PCA 338\n",
      "Number of features after PCA 150\n",
      "Fold #4\n",
      "Number of features before PCA 338\n",
      "Number of features after PCA 150\n",
      "Fold #5\n",
      "Number of features before PCA 338\n",
      "Number of features after PCA 150\n"
     ]
    },
    {
     "name": "stderr",
     "output_type": "stream",
     "text": [
      "[I 2024-05-14 10:28:47,824] Trial 19 finished with value: 0.044285185635089874 and parameters: {'hidden_layers': 2, 'hidden_size_0': 34, 'hidden_size_1': 29}. Best is trial 17 with value: 0.03928611502051353.\n"
     ]
    },
    {
     "name": "stdout",
     "output_type": "stream",
     "text": [
      "Fold #1\n",
      "Number of features before PCA 338\n",
      "Number of features after PCA 150\n",
      "Fold #2\n",
      "Number of features before PCA 338\n",
      "Number of features after PCA 150\n",
      "Fold #3\n",
      "Number of features before PCA 338\n",
      "Number of features after PCA 150\n",
      "Fold #4\n",
      "Number of features before PCA 338\n",
      "Number of features after PCA 150\n",
      "Fold #5\n",
      "Number of features before PCA 338\n",
      "Number of features after PCA 150\n"
     ]
    },
    {
     "name": "stderr",
     "output_type": "stream",
     "text": [
      "[I 2024-05-14 10:29:51,173] Trial 20 finished with value: 0.04219571873545647 and parameters: {'hidden_layers': 1, 'hidden_size_0': 60}. Best is trial 17 with value: 0.03928611502051353.\n"
     ]
    },
    {
     "name": "stdout",
     "output_type": "stream",
     "text": [
      "Fold #1\n",
      "Number of features before PCA 338\n",
      "Number of features after PCA 150\n",
      "Fold #2\n",
      "Number of features before PCA 338\n",
      "Number of features after PCA 150\n",
      "Fold #3\n",
      "Number of features before PCA 338\n",
      "Number of features after PCA 150\n",
      "Fold #4\n",
      "Number of features before PCA 338\n",
      "Number of features after PCA 150\n",
      "Fold #5\n",
      "Number of features before PCA 338\n",
      "Number of features after PCA 150\n"
     ]
    },
    {
     "name": "stderr",
     "output_type": "stream",
     "text": [
      "[I 2024-05-14 10:31:25,282] Trial 21 finished with value: 0.040787873417139055 and parameters: {'hidden_layers': 2, 'hidden_size_0': 59, 'hidden_size_1': 35}. Best is trial 17 with value: 0.03928611502051353.\n"
     ]
    },
    {
     "name": "stdout",
     "output_type": "stream",
     "text": [
      "Fold #1\n",
      "Number of features before PCA 338\n",
      "Number of features after PCA 150\n",
      "Fold #2\n",
      "Number of features before PCA 338\n",
      "Number of features after PCA 150\n",
      "Fold #3\n",
      "Number of features before PCA 338\n",
      "Number of features after PCA 150\n",
      "Fold #4\n",
      "Number of features before PCA 338\n",
      "Number of features after PCA 150\n",
      "Fold #5\n",
      "Number of features before PCA 338\n",
      "Number of features after PCA 150\n"
     ]
    },
    {
     "name": "stderr",
     "output_type": "stream",
     "text": [
      "[I 2024-05-14 10:32:58,020] Trial 22 finished with value: 0.03946395218372345 and parameters: {'hidden_layers': 2, 'hidden_size_0': 59, 'hidden_size_1': 47}. Best is trial 17 with value: 0.03928611502051353.\n"
     ]
    },
    {
     "name": "stdout",
     "output_type": "stream",
     "text": [
      "Fold #1\n",
      "Number of features before PCA 338\n",
      "Number of features after PCA 150\n",
      "Fold #2\n",
      "Number of features before PCA 338\n",
      "Number of features after PCA 150\n",
      "Fold #3\n",
      "Number of features before PCA 338\n",
      "Number of features after PCA 150\n",
      "Fold #4\n",
      "Number of features before PCA 338\n",
      "Number of features after PCA 150\n",
      "Fold #5\n",
      "Number of features before PCA 338\n",
      "Number of features after PCA 150\n"
     ]
    },
    {
     "name": "stderr",
     "output_type": "stream",
     "text": [
      "[I 2024-05-14 10:34:33,398] Trial 23 finished with value: 0.04124518558382988 and parameters: {'hidden_layers': 2, 'hidden_size_0': 49, 'hidden_size_1': 53}. Best is trial 17 with value: 0.03928611502051353.\n"
     ]
    },
    {
     "name": "stdout",
     "output_type": "stream",
     "text": [
      "Fold #1\n",
      "Number of features before PCA 338\n",
      "Number of features after PCA 150\n",
      "Fold #2\n",
      "Number of features before PCA 338\n",
      "Number of features after PCA 150\n",
      "Fold #3\n",
      "Number of features before PCA 338\n",
      "Number of features after PCA 150\n",
      "Fold #4\n",
      "Number of features before PCA 338\n",
      "Number of features after PCA 150\n",
      "Fold #5\n",
      "Number of features before PCA 338\n",
      "Number of features after PCA 150\n"
     ]
    },
    {
     "name": "stderr",
     "output_type": "stream",
     "text": [
      "[I 2024-05-14 10:35:59,484] Trial 24 finished with value: 0.039294590801000596 and parameters: {'hidden_layers': 2, 'hidden_size_0': 63, 'hidden_size_1': 56}. Best is trial 17 with value: 0.03928611502051353.\n"
     ]
    },
    {
     "name": "stdout",
     "output_type": "stream",
     "text": [
      "Fold #1\n",
      "Number of features before PCA 338\n",
      "Number of features after PCA 150\n",
      "Fold #2\n",
      "Number of features before PCA 338\n",
      "Number of features after PCA 150\n",
      "Fold #3\n",
      "Number of features before PCA 338\n",
      "Number of features after PCA 150\n",
      "Fold #4\n",
      "Number of features before PCA 338\n",
      "Number of features after PCA 150\n",
      "Fold #5\n",
      "Number of features before PCA 338\n",
      "Number of features after PCA 150\n"
     ]
    },
    {
     "name": "stderr",
     "output_type": "stream",
     "text": [
      "[I 2024-05-14 10:37:21,886] Trial 25 finished with value: 0.039321182668209075 and parameters: {'hidden_layers': 2, 'hidden_size_0': 61, 'hidden_size_1': 56}. Best is trial 17 with value: 0.03928611502051353.\n"
     ]
    },
    {
     "name": "stdout",
     "output_type": "stream",
     "text": [
      "Fold #1\n",
      "Number of features before PCA 338\n",
      "Number of features after PCA 150\n",
      "Fold #2\n",
      "Number of features before PCA 338\n",
      "Number of features after PCA 150\n",
      "Fold #3\n",
      "Number of features before PCA 338\n",
      "Number of features after PCA 150\n",
      "Fold #4\n",
      "Number of features before PCA 338\n",
      "Number of features after PCA 150\n",
      "Fold #5\n",
      "Number of features before PCA 338\n",
      "Number of features after PCA 150\n"
     ]
    },
    {
     "name": "stderr",
     "output_type": "stream",
     "text": [
      "[I 2024-05-14 10:38:59,765] Trial 26 finished with value: 0.03976444602012634 and parameters: {'hidden_layers': 2, 'hidden_size_0': 64, 'hidden_size_1': 62}. Best is trial 17 with value: 0.03928611502051353.\n"
     ]
    },
    {
     "name": "stdout",
     "output_type": "stream",
     "text": [
      "Fold #1\n",
      "Number of features before PCA 338\n",
      "Number of features after PCA 150\n",
      "Fold #2\n",
      "Number of features before PCA 338\n",
      "Number of features after PCA 150\n",
      "Fold #3\n",
      "Number of features before PCA 338\n",
      "Number of features after PCA 150\n",
      "Fold #4\n",
      "Number of features before PCA 338\n",
      "Number of features after PCA 150\n",
      "Fold #5\n",
      "Number of features before PCA 338\n",
      "Number of features after PCA 150\n"
     ]
    },
    {
     "name": "stderr",
     "output_type": "stream",
     "text": [
      "[I 2024-05-14 10:40:31,665] Trial 27 finished with value: 0.04149928689002991 and parameters: {'hidden_layers': 2, 'hidden_size_0': 49, 'hidden_size_1': 56}. Best is trial 17 with value: 0.03928611502051353.\n"
     ]
    },
    {
     "name": "stdout",
     "output_type": "stream",
     "text": [
      "Fold #1\n",
      "Number of features before PCA 338\n",
      "Number of features after PCA 150\n",
      "Fold #2\n",
      "Number of features before PCA 338\n",
      "Number of features after PCA 150\n",
      "Fold #3\n",
      "Number of features before PCA 338\n",
      "Number of features after PCA 150\n",
      "Fold #4\n",
      "Number of features before PCA 338\n",
      "Number of features after PCA 150\n",
      "Fold #5\n",
      "Number of features before PCA 338\n",
      "Number of features after PCA 150\n"
     ]
    },
    {
     "name": "stderr",
     "output_type": "stream",
     "text": [
      "[I 2024-05-14 10:41:46,180] Trial 28 finished with value: 0.04318284839391708 and parameters: {'hidden_layers': 2, 'hidden_size_0': 37, 'hidden_size_1': 54}. Best is trial 17 with value: 0.03928611502051353.\n"
     ]
    },
    {
     "name": "stdout",
     "output_type": "stream",
     "text": [
      "Fold #1\n",
      "Number of features before PCA 338\n",
      "Number of features after PCA 150\n",
      "Fold #2\n",
      "Number of features before PCA 338\n",
      "Number of features after PCA 150\n",
      "Fold #3\n",
      "Number of features before PCA 338\n",
      "Number of features after PCA 150\n",
      "Fold #4\n",
      "Number of features before PCA 338\n",
      "Number of features after PCA 150\n",
      "Fold #5\n",
      "Number of features before PCA 338\n",
      "Number of features after PCA 150\n"
     ]
    },
    {
     "name": "stderr",
     "output_type": "stream",
     "text": [
      "[I 2024-05-14 10:43:05,716] Trial 29 finished with value: 0.03958749994635582 and parameters: {'hidden_layers': 2, 'hidden_size_0': 63, 'hidden_size_1': 42}. Best is trial 17 with value: 0.03928611502051353.\n"
     ]
    },
    {
     "name": "stdout",
     "output_type": "stream",
     "text": [
      "Fold #1\n",
      "Number of features before PCA 338\n",
      "Number of features after PCA 150\n",
      "Fold #2\n",
      "Number of features before PCA 338\n",
      "Number of features after PCA 150\n",
      "Fold #3\n",
      "Number of features before PCA 338\n",
      "Number of features after PCA 150\n",
      "Fold #4\n",
      "Number of features before PCA 338\n",
      "Number of features after PCA 150\n",
      "Fold #5\n",
      "Number of features before PCA 338\n",
      "Number of features after PCA 150\n"
     ]
    },
    {
     "name": "stderr",
     "output_type": "stream",
     "text": [
      "[I 2024-05-14 10:44:11,020] Trial 30 finished with value: 0.06684425100684166 and parameters: {'hidden_layers': 2, 'hidden_size_0': 2, 'hidden_size_1': 58}. Best is trial 17 with value: 0.03928611502051353.\n"
     ]
    },
    {
     "name": "stdout",
     "output_type": "stream",
     "text": [
      "Fold #1\n",
      "Number of features before PCA 338\n",
      "Number of features after PCA 150\n",
      "Fold #2\n",
      "Number of features before PCA 338\n",
      "Number of features after PCA 150\n",
      "Fold #3\n",
      "Number of features before PCA 338\n",
      "Number of features after PCA 150\n",
      "Fold #4\n",
      "Number of features before PCA 338\n",
      "Number of features after PCA 150\n",
      "Fold #5\n",
      "Number of features before PCA 338\n",
      "Number of features after PCA 150\n"
     ]
    },
    {
     "name": "stderr",
     "output_type": "stream",
     "text": [
      "[I 2024-05-14 10:45:58,378] Trial 31 finished with value: 0.03979830667376518 and parameters: {'hidden_layers': 2, 'hidden_size_0': 61, 'hidden_size_1': 50}. Best is trial 17 with value: 0.03928611502051353.\n"
     ]
    },
    {
     "name": "stdout",
     "output_type": "stream",
     "text": [
      "Fold #1\n",
      "Number of features before PCA 338\n",
      "Number of features after PCA 150\n",
      "Fold #2\n",
      "Number of features before PCA 338\n",
      "Number of features after PCA 150\n",
      "Fold #3\n",
      "Number of features before PCA 338\n",
      "Number of features after PCA 150\n",
      "Fold #4\n",
      "Number of features before PCA 338\n",
      "Number of features after PCA 150\n",
      "Fold #5\n",
      "Number of features before PCA 338\n",
      "Number of features after PCA 150\n"
     ]
    },
    {
     "name": "stderr",
     "output_type": "stream",
     "text": [
      "[I 2024-05-14 10:48:28,490] Trial 32 finished with value: 0.04096648842096329 and parameters: {'hidden_layers': 2, 'hidden_size_0': 52, 'hidden_size_1': 48}. Best is trial 17 with value: 0.03928611502051353.\n"
     ]
    },
    {
     "name": "stdout",
     "output_type": "stream",
     "text": [
      "Fold #1\n",
      "Number of features before PCA 338\n",
      "Number of features after PCA 150\n",
      "Fold #2\n",
      "Number of features before PCA 338\n",
      "Number of features after PCA 150\n",
      "Fold #3\n",
      "Number of features before PCA 338\n",
      "Number of features after PCA 150\n",
      "Fold #4\n",
      "Number of features before PCA 338\n",
      "Number of features after PCA 150\n",
      "Fold #5\n",
      "Number of features before PCA 338\n",
      "Number of features after PCA 150\n"
     ]
    },
    {
     "name": "stderr",
     "output_type": "stream",
     "text": [
      "[I 2024-05-14 10:51:31,025] Trial 33 finished with value: 0.040537475049495696 and parameters: {'hidden_layers': 2, 'hidden_size_0': 59, 'hidden_size_1': 59}. Best is trial 17 with value: 0.03928611502051353.\n"
     ]
    },
    {
     "name": "stdout",
     "output_type": "stream",
     "text": [
      "Fold #1\n",
      "Number of features before PCA 338\n",
      "Number of features after PCA 150\n",
      "Fold #2\n",
      "Number of features before PCA 338\n",
      "Number of features after PCA 150\n",
      "Fold #3\n",
      "Number of features before PCA 338\n",
      "Number of features after PCA 150\n",
      "Fold #4\n",
      "Number of features before PCA 338\n",
      "Number of features after PCA 150\n",
      "Fold #5\n",
      "Number of features before PCA 338\n",
      "Number of features after PCA 150\n"
     ]
    },
    {
     "name": "stderr",
     "output_type": "stream",
     "text": [
      "[I 2024-05-14 10:54:00,851] Trial 34 finished with value: 0.03938736990094185 and parameters: {'hidden_layers': 2, 'hidden_size_0': 64, 'hidden_size_1': 42}. Best is trial 17 with value: 0.03928611502051353.\n"
     ]
    },
    {
     "name": "stdout",
     "output_type": "stream",
     "text": [
      "Fold #1\n",
      "Number of features before PCA 338\n",
      "Number of features after PCA 150\n",
      "Fold #2\n",
      "Number of features before PCA 338\n",
      "Number of features after PCA 150\n",
      "Fold #3\n",
      "Number of features before PCA 338\n",
      "Number of features after PCA 150\n",
      "Fold #4\n",
      "Number of features before PCA 338\n",
      "Number of features after PCA 150\n",
      "Fold #5\n",
      "Number of features before PCA 338\n",
      "Number of features after PCA 150\n"
     ]
    },
    {
     "name": "stderr",
     "output_type": "stream",
     "text": [
      "[I 2024-05-14 10:56:31,317] Trial 35 finished with value: 0.039445514976978305 and parameters: {'hidden_layers': 2, 'hidden_size_0': 64, 'hidden_size_1': 41}. Best is trial 17 with value: 0.03928611502051353.\n"
     ]
    },
    {
     "name": "stdout",
     "output_type": "stream",
     "text": [
      "Fold #1\n",
      "Number of features before PCA 338\n",
      "Number of features after PCA 150\n",
      "Fold #2\n",
      "Number of features before PCA 338\n",
      "Number of features after PCA 150\n",
      "Fold #3\n",
      "Number of features before PCA 338\n",
      "Number of features after PCA 150\n",
      "Fold #4\n",
      "Number of features before PCA 338\n",
      "Number of features after PCA 150\n",
      "Fold #5\n",
      "Number of features before PCA 338\n",
      "Number of features after PCA 150\n"
     ]
    },
    {
     "name": "stderr",
     "output_type": "stream",
     "text": [
      "[I 2024-05-14 10:58:28,742] Trial 36 finished with value: 0.040638315677642825 and parameters: {'hidden_layers': 2, 'hidden_size_0': 55, 'hidden_size_1': 29}. Best is trial 17 with value: 0.03928611502051353.\n"
     ]
    },
    {
     "name": "stdout",
     "output_type": "stream",
     "text": [
      "Fold #1\n",
      "Number of features before PCA 338\n",
      "Number of features after PCA 150\n",
      "Fold #2\n",
      "Number of features before PCA 338\n",
      "Number of features after PCA 150\n",
      "Fold #3\n",
      "Number of features before PCA 338\n",
      "Number of features after PCA 150\n",
      "Fold #4\n",
      "Number of features before PCA 338\n",
      "Number of features after PCA 150\n",
      "Fold #5\n",
      "Number of features before PCA 338\n",
      "Number of features after PCA 150\n"
     ]
    },
    {
     "name": "stderr",
     "output_type": "stream",
     "text": [
      "[I 2024-05-14 10:59:47,233] Trial 37 finished with value: 0.043401457369327545 and parameters: {'hidden_layers': 1, 'hidden_size_0': 47}. Best is trial 17 with value: 0.03928611502051353.\n"
     ]
    },
    {
     "name": "stdout",
     "output_type": "stream",
     "text": [
      "Fold #1\n",
      "Number of features before PCA 338\n",
      "Number of features after PCA 150\n",
      "Fold #2\n",
      "Number of features before PCA 338\n",
      "Number of features after PCA 150\n",
      "Fold #3\n",
      "Number of features before PCA 338\n",
      "Number of features after PCA 150\n",
      "Fold #4\n",
      "Number of features before PCA 338\n",
      "Number of features after PCA 150\n",
      "Fold #5\n",
      "Number of features before PCA 338\n",
      "Number of features after PCA 150\n"
     ]
    },
    {
     "name": "stderr",
     "output_type": "stream",
     "text": [
      "[I 2024-05-14 11:03:13,344] Trial 38 finished with value: 0.040153924375772476 and parameters: {'hidden_layers': 2, 'hidden_size_0': 53, 'hidden_size_1': 52}. Best is trial 17 with value: 0.03928611502051353.\n"
     ]
    },
    {
     "name": "stdout",
     "output_type": "stream",
     "text": [
      "Fold #1\n",
      "Number of features before PCA 338\n",
      "Number of features after PCA 150\n",
      "Fold #2\n",
      "Number of features before PCA 338\n",
      "Number of features after PCA 150\n",
      "Fold #3\n",
      "Number of features before PCA 338\n",
      "Number of features after PCA 150\n",
      "Fold #4\n",
      "Number of features before PCA 338\n",
      "Number of features after PCA 150\n",
      "Fold #5\n",
      "Number of features before PCA 338\n",
      "Number of features after PCA 150\n"
     ]
    },
    {
     "name": "stderr",
     "output_type": "stream",
     "text": [
      "[I 2024-05-14 11:06:21,440] Trial 39 finished with value: 0.040320129692554475 and parameters: {'hidden_layers': 2, 'hidden_size_0': 56, 'hidden_size_1': 62}. Best is trial 17 with value: 0.03928611502051353.\n"
     ]
    },
    {
     "name": "stdout",
     "output_type": "stream",
     "text": [
      "Fold #1\n",
      "Number of features before PCA 338\n",
      "Number of features after PCA 150\n",
      "Fold #2\n",
      "Number of features before PCA 338\n",
      "Number of features after PCA 150\n",
      "Fold #3\n",
      "Number of features before PCA 338\n",
      "Number of features after PCA 150\n",
      "Fold #4\n",
      "Number of features before PCA 338\n",
      "Number of features after PCA 150\n",
      "Fold #5\n",
      "Number of features before PCA 338\n",
      "Number of features after PCA 150\n"
     ]
    },
    {
     "name": "stderr",
     "output_type": "stream",
     "text": [
      "[I 2024-05-14 11:07:28,416] Trial 40 finished with value: 0.04426563009619713 and parameters: {'hidden_layers': 1, 'hidden_size_0': 41}. Best is trial 17 with value: 0.03928611502051353.\n"
     ]
    },
    {
     "name": "stdout",
     "output_type": "stream",
     "text": [
      "Fold #1\n",
      "Number of features before PCA 338\n",
      "Number of features after PCA 150\n",
      "Fold #2\n",
      "Number of features before PCA 338\n",
      "Number of features after PCA 150\n",
      "Fold #3\n",
      "Number of features before PCA 338\n",
      "Number of features after PCA 150\n",
      "Fold #4\n",
      "Number of features before PCA 338\n",
      "Number of features after PCA 150\n",
      "Fold #5\n",
      "Number of features before PCA 338\n",
      "Number of features after PCA 150\n"
     ]
    },
    {
     "name": "stderr",
     "output_type": "stream",
     "text": [
      "[I 2024-05-14 11:09:31,260] Trial 41 finished with value: 0.038954831659793854 and parameters: {'hidden_layers': 2, 'hidden_size_0': 64, 'hidden_size_1': 40}. Best is trial 41 with value: 0.038954831659793854.\n"
     ]
    },
    {
     "name": "stdout",
     "output_type": "stream",
     "text": [
      "Fold #1\n",
      "Number of features before PCA 338\n",
      "Number of features after PCA 150\n",
      "Fold #2\n",
      "Number of features before PCA 338\n",
      "Number of features after PCA 150\n",
      "Fold #3\n",
      "Number of features before PCA 338\n",
      "Number of features after PCA 150\n",
      "Fold #4\n",
      "Number of features before PCA 338\n",
      "Number of features after PCA 150\n",
      "Fold #5\n",
      "Number of features before PCA 338\n",
      "Number of features after PCA 150\n"
     ]
    },
    {
     "name": "stderr",
     "output_type": "stream",
     "text": [
      "[I 2024-05-14 11:11:32,514] Trial 42 finished with value: 0.03914457410573959 and parameters: {'hidden_layers': 2, 'hidden_size_0': 61, 'hidden_size_1': 38}. Best is trial 41 with value: 0.038954831659793854.\n"
     ]
    },
    {
     "name": "stdout",
     "output_type": "stream",
     "text": [
      "Fold #1\n",
      "Number of features before PCA 338\n",
      "Number of features after PCA 150\n",
      "Fold #2\n",
      "Number of features before PCA 338\n",
      "Number of features after PCA 150\n",
      "Fold #3\n",
      "Number of features before PCA 338\n",
      "Number of features after PCA 150\n",
      "Fold #4\n",
      "Number of features before PCA 338\n",
      "Number of features after PCA 150\n",
      "Fold #5\n",
      "Number of features before PCA 338\n",
      "Number of features after PCA 150\n"
     ]
    },
    {
     "name": "stderr",
     "output_type": "stream",
     "text": [
      "[I 2024-05-14 11:13:28,643] Trial 43 finished with value: 0.03912748694419861 and parameters: {'hidden_layers': 2, 'hidden_size_0': 61, 'hidden_size_1': 30}. Best is trial 41 with value: 0.038954831659793854.\n"
     ]
    },
    {
     "name": "stdout",
     "output_type": "stream",
     "text": [
      "Fold #1\n",
      "Number of features before PCA 338\n",
      "Number of features after PCA 150\n",
      "Fold #2\n",
      "Number of features before PCA 338\n",
      "Number of features after PCA 150\n",
      "Fold #3\n",
      "Number of features before PCA 338\n",
      "Number of features after PCA 150\n",
      "Fold #4\n",
      "Number of features before PCA 338\n",
      "Number of features after PCA 150\n",
      "Fold #5\n",
      "Number of features before PCA 338\n",
      "Number of features after PCA 150\n"
     ]
    },
    {
     "name": "stderr",
     "output_type": "stream",
     "text": [
      "[I 2024-05-14 11:14:30,900] Trial 44 finished with value: 0.052212965488433835 and parameters: {'hidden_layers': 2, 'hidden_size_0': 11, 'hidden_size_1': 31}. Best is trial 41 with value: 0.038954831659793854.\n"
     ]
    },
    {
     "name": "stdout",
     "output_type": "stream",
     "text": [
      "Fold #1\n",
      "Number of features before PCA 338\n",
      "Number of features after PCA 150\n",
      "Fold #2\n",
      "Number of features before PCA 338\n",
      "Number of features after PCA 150\n",
      "Fold #3\n",
      "Number of features before PCA 338\n",
      "Number of features after PCA 150\n",
      "Fold #4\n",
      "Number of features before PCA 338\n",
      "Number of features after PCA 150\n",
      "Fold #5\n",
      "Number of features before PCA 338\n",
      "Number of features after PCA 150\n"
     ]
    },
    {
     "name": "stderr",
     "output_type": "stream",
     "text": [
      "[I 2024-05-14 11:16:31,872] Trial 45 finished with value: 0.04012660458683968 and parameters: {'hidden_layers': 2, 'hidden_size_0': 56, 'hidden_size_1': 27}. Best is trial 41 with value: 0.038954831659793854.\n"
     ]
    },
    {
     "name": "stdout",
     "output_type": "stream",
     "text": [
      "Fold #1\n",
      "Number of features before PCA 338\n",
      "Number of features after PCA 150\n",
      "Fold #2\n",
      "Number of features before PCA 338\n",
      "Number of features after PCA 150\n",
      "Fold #3\n",
      "Number of features before PCA 338\n",
      "Number of features after PCA 150\n",
      "Fold #4\n",
      "Number of features before PCA 338\n",
      "Number of features after PCA 150\n",
      "Fold #5\n",
      "Number of features before PCA 338\n",
      "Number of features after PCA 150\n"
     ]
    },
    {
     "name": "stderr",
     "output_type": "stream",
     "text": [
      "[I 2024-05-14 11:18:32,538] Trial 46 finished with value: 0.04099857807159424 and parameters: {'hidden_layers': 2, 'hidden_size_0': 51, 'hidden_size_1': 22}. Best is trial 41 with value: 0.038954831659793854.\n"
     ]
    },
    {
     "name": "stdout",
     "output_type": "stream",
     "text": [
      "Fold #1\n",
      "Number of features before PCA 338\n",
      "Number of features after PCA 150\n",
      "Fold #2\n",
      "Number of features before PCA 338\n",
      "Number of features after PCA 150\n",
      "Fold #3\n",
      "Number of features before PCA 338\n",
      "Number of features after PCA 150\n",
      "Fold #4\n",
      "Number of features before PCA 338\n",
      "Number of features after PCA 150\n",
      "Fold #5\n",
      "Number of features before PCA 338\n",
      "Number of features after PCA 150\n"
     ]
    },
    {
     "name": "stderr",
     "output_type": "stream",
     "text": [
      "[I 2024-05-14 11:20:43,164] Trial 47 finished with value: 0.0397838369011879 and parameters: {'hidden_layers': 2, 'hidden_size_0': 61, 'hidden_size_1': 39}. Best is trial 41 with value: 0.038954831659793854.\n"
     ]
    },
    {
     "name": "stdout",
     "output_type": "stream",
     "text": [
      "Fold #1\n",
      "Number of features before PCA 338\n",
      "Number of features after PCA 150\n",
      "Fold #2\n",
      "Number of features before PCA 338\n",
      "Number of features after PCA 150\n",
      "Fold #3\n",
      "Number of features before PCA 338\n",
      "Number of features after PCA 150\n",
      "Fold #4\n",
      "Number of features before PCA 338\n",
      "Number of features after PCA 150\n",
      "Fold #5\n",
      "Number of features before PCA 338\n",
      "Number of features after PCA 150\n"
     ]
    },
    {
     "name": "stderr",
     "output_type": "stream",
     "text": [
      "[I 2024-05-14 11:22:27,455] Trial 48 finished with value: 0.03926267176866531 and parameters: {'hidden_layers': 2, 'hidden_size_0': 56, 'hidden_size_1': 11}. Best is trial 41 with value: 0.038954831659793854.\n"
     ]
    },
    {
     "name": "stdout",
     "output_type": "stream",
     "text": [
      "Fold #1\n",
      "Number of features before PCA 338\n",
      "Number of features after PCA 150\n",
      "Fold #2\n",
      "Number of features before PCA 338\n",
      "Number of features after PCA 150\n",
      "Fold #3\n",
      "Number of features before PCA 338\n",
      "Number of features after PCA 150\n",
      "Fold #4\n",
      "Number of features before PCA 338\n",
      "Number of features after PCA 150\n",
      "Fold #5\n",
      "Number of features before PCA 338\n",
      "Number of features after PCA 150\n"
     ]
    },
    {
     "name": "stderr",
     "output_type": "stream",
     "text": [
      "[I 2024-05-14 11:24:01,663] Trial 49 finished with value: 0.04081269949674606 and parameters: {'hidden_layers': 2, 'hidden_size_0': 57, 'hidden_size_1': 12}. Best is trial 41 with value: 0.038954831659793854.\n"
     ]
    }
   ],
   "execution_count": 14
  }
 ],
 "metadata": {
  "kernelspec": {
   "display_name": "Python 3",
   "language": "python",
   "name": "python3"
  },
  "language_info": {
   "codemirror_mode": {
    "name": "ipython",
    "version": 2
   },
   "file_extension": ".py",
   "mimetype": "text/x-python",
   "name": "python",
   "nbconvert_exporter": "python",
   "pygments_lexer": "ipython2",
   "version": "2.7.6"
  }
 },
 "nbformat": 4,
 "nbformat_minor": 5
}
