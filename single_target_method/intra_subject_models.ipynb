{
 "cells": [
  {
   "cell_type": "code",
   "id": "initial_id",
   "metadata": {
    "collapsed": true,
    "ExecuteTime": {
     "end_time": "2024-05-23T19:16:26.509738Z",
     "start_time": "2024-05-23T19:16:26.495740Z"
    }
   },
   "source": [
    "import joblib\n",
    "import numpy as np\n",
    "import pandas as pd\n",
    "import torch\n",
    "\n",
    "import time\n",
    "\n",
    "import matplotlib.pyplot as plt\n",
    "\n",
    "from sklearn.model_selection import train_test_split\n",
    "\n",
    "from models.MLP import MLP\n",
    "import data_processing as dp\n",
    "import model_evaluation as me"
   ],
   "outputs": [],
   "execution_count": 17
  },
  {
   "metadata": {
    "ExecuteTime": {
     "end_time": "2024-05-23T19:15:44.522112Z",
     "start_time": "2024-05-23T19:15:36.888094Z"
    }
   },
   "cell_type": "code",
   "source": [
    "####################\n",
    "# LOADING THE DATA #\n",
    "####################\n",
    "SUBJECTS = ['HH']\n",
    "SCENES = ['FlatWalkStraight', 'FlatWalkCircular', 'FlatWalkStatic']\n",
    "TRIALS = ('all')\n",
    "\n",
    "gait_cycles = dp.read_gait_cycles(SUBJECTS, SCENES, TRIALS)"
   ],
   "id": "f4f114765d09a890",
   "outputs": [
    {
     "name": "stdout",
     "output_type": "stream",
     "text": [
      "Reading BW jogging_1.csv\n",
      "Reading BW jogging_2.csv\n",
      "Reading BW jogging_3.csv\n",
      "Reading BW jogging_4_badForcePlate.csv\n",
      "Reading Bw stop FW walking_1_badForcePlate.csv\n",
      "Reading Bw stop FW walking_2_badForcePlate.csv\n",
      "Reading Bw stop FW walking_3.csv\n",
      "Reading Bw stop FW walking_4_badForcePlate.csv\n",
      "Reading Bw stop FW walking_5.csv\n",
      "Reading BW walking_1.csv\n",
      "Reading BW walking_2.csv\n",
      "Reading BW walking_3.csv\n",
      "Reading BW walking_4.csv\n",
      "Reading BW walking_5_badForcePlate.csv\n",
      "Reading BW walking_6_badForcePlate.csv\n",
      "Reading BW-L walking_1.csv\n",
      "Reading BW-L walking_2.csv\n",
      "Reading BW-L walking_3_badForcePlate.csv\n",
      "Reading BW-L walking_4_badForcePlate.csv\n",
      "Reading BW-R walking_1.csv\n",
      "Reading BW-R walking_2.csv\n",
      "Reading BW-R walking_3.csv\n",
      "Reading BW-R walking_4.csv\n",
      "Reading FW jogging_1.csv\n",
      "Reading FW jogging_2.csv\n",
      "Reading FW jogging_3.csv\n",
      "Reading FW jogging_4.csv\n",
      "Reading FW jogging_5_badForcePlate.csv\n",
      "Reading FW jogging_6.csv\n",
      "Reading FW stop 180 FW walking_2_badForcePlate.csv\n",
      "Reading FW stop 180 FW walking_3.csv\n",
      "Reading FW stop 180 FW walking_4.csv\n",
      "Reading FW stop 180 FW walking_5_badForcePlate.csv\n",
      "Reading FW stop BW walking_1_badForcePlate.csv\n",
      "Reading FW stop BW walking_2.csv\n",
      "Reading FW stop BW walking_3.csv\n",
      "Reading FW stop BW walking_4.csv\n",
      "Reading FW walking_1.csv\n",
      "Reading FW walking_2.csv\n",
      "Reading FW walking_3.csv\n",
      "Reading FW walking_4_badForcePlate.csv\n",
      "Reading FW walking_5.csv\n",
      "Reading FW walking_6_badForcePlate.csv\n",
      "Reading FW-L jogging_1.csv\n",
      "Reading FW-L jogging_2_badForcePlate.csv\n",
      "Reading FW-L jogging_3_badForcePlate.csv\n",
      "Reading FW-L jogging_4_badForcePlate.csv\n",
      "Reading FW-L jogging_5_badForcePlate.csv\n",
      "Reading FW-L jogging_6_badForcePlate.csv\n",
      "Reading FW-L walking_1.csv\n",
      "Reading FW-L walking_2_badForcePlate.csv\n",
      "Reading FW-L walking_3.csv\n",
      "Reading FW-L walking_4.csv\n",
      "Reading FW-L walking_5.csv\n",
      "Reading FW-L walking_6_badForcePlate.csv\n",
      "Reading FW-R jogging_1.csv\n",
      "Reading FW-R jogging_2.csv\n",
      "Reading FW-R jogging_3_badForcePlate.csv\n",
      "Reading FW-R jogging_4_badForcePlate.csv\n",
      "Reading FW-R jogging_5_badForcePlate.csv\n",
      "Reading FW-R jogging_6.csv\n",
      "Reading FW-R walking_1.csv\n",
      "Reading FW-R walking_2.csv\n",
      "Reading FW-R walking_3.csv\n",
      "Reading FW-R walking_4.csv\n",
      "Reading FW-R walking_5.csv\n",
      "Reading FW-R walking_6.csv\n",
      "Reading Pirouet 360_1.csv\n",
      "Reading Pirouet 360_2_badForcePlate.csv\n",
      "Reading Pirouet 360_3.csv\n",
      "Reading Pirouet 360_4.csv\n",
      "Reading Pirouet 360_5_badForcePlate.csv\n",
      "Reading Pirouet 360_6.csv\n",
      "Reading Sidestepping fast_1.csv\n",
      "Reading Sidestepping fast_2.csv\n",
      "Reading Sidestepping fast_3.csv\n",
      "Reading Sidestepping fast_4.csv\n",
      "Reading Sidestepping fast_5.csv\n",
      "Reading Sidestepping fast_6_badForcePlate.csv\n",
      "Reading Sidestepping normal_1.csv\n",
      "Reading Sidestepping normal_3_badForcePlate.csv\n",
      "Reading Sidestepping normal_5_badForcePlate.csv\n",
      "Reading Sidestepping normal_6_badForcePlate.csv\n",
      "Reading CCW BW walking_1.csv\n",
      "Reading CCW BW walking_2.csv\n",
      "Reading CCW BW walking_3.csv\n",
      "Reading CCW FW jogging_1.csv\n",
      "Reading CCW FW jogging_2.csv\n",
      "Reading CCW FW jogging_3.csv\n",
      "Reading CCW FW walking_1.csv\n",
      "Reading CCW FW walking_2_badForcePlate.csv\n",
      "Reading CCW FW walking_3.csv\n",
      "Reading CW BW walking_1_badForcePlate.csv\n",
      "Reading CW BW walking_2_badForcePlate.csv\n",
      "Reading CW BW walking_3.csv\n",
      "Reading CW FW jogging_1.csv\n",
      "Reading CW FW jogging_2.csv\n",
      "Reading CW FW jogging_3_badForcePlate.csv\n",
      "Reading CW FW walking_1.csv\n",
      "Reading CW FW walking_2.csv\n",
      "Reading CW FW walking_3.csv\n",
      "Reading Sit-to-stand_badForcePlate.csv\n",
      "Reading Sitting_badForcePlate.csv\n",
      "Reading Squat.csv\n",
      "Reading Standing.csv\n"
     ]
    }
   ],
   "execution_count": 8
  },
  {
   "metadata": {
    "ExecuteTime": {
     "end_time": "2024-05-23T19:15:47.300355Z",
     "start_time": "2024-05-23T19:15:44.528195Z"
    }
   },
   "cell_type": "code",
   "source": [
    "##############################################\n",
    "# LEFT VS. RIGHT FOOT -> MAIN VS. OTHER FOOT #\n",
    "##############################################\n",
    "df_l, df_r = dp.homogenize(gait_cycles)\n",
    "df_homogenous = pd.concat([df_l, df_r])"
   ],
   "id": "6f259f3f7fc48026",
   "outputs": [],
   "execution_count": 9
  },
  {
   "metadata": {
    "ExecuteTime": {
     "end_time": "2024-05-23T19:15:47.575646Z",
     "start_time": "2024-05-23T19:15:47.304360Z"
    }
   },
   "cell_type": "code",
   "source": [
    "#############\n",
    "# FILTERING #\n",
    "#############\n",
    "df_filtered = dp.filter(df_homogenous)\n",
    "\n",
    "df_filtered.groupby(['trial'])['trial'].count()"
   ],
   "id": "34609b5194129f74",
   "outputs": [
    {
     "data": {
      "text/plain": [
       "trial\n",
       "BW jogging_1.csv                             23\n",
       "BW jogging_2.csv                             25\n",
       "BW jogging_3.csv                             24\n",
       "BW jogging_4_badForcePlate.csv               23\n",
       "BW walking_1.csv                             77\n",
       "                                           ... \n",
       "Sidestepping normal_6_badForcePlate.csv     150\n",
       "Sit-to-stand_badForcePlate.csv             1354\n",
       "Sitting_badForcePlate.csv                   370\n",
       "Squat.csv                                   585\n",
       "Standing.csv                                987\n",
       "Name: trial, Length: 105, dtype: int64"
      ]
     },
     "execution_count": 10,
     "metadata": {},
     "output_type": "execute_result"
    }
   ],
   "execution_count": 10
  },
  {
   "metadata": {
    "ExecuteTime": {
     "end_time": "2024-05-23T19:15:47.744351Z",
     "start_time": "2024-05-23T19:15:47.580650Z"
    }
   },
   "cell_type": "code",
   "source": [
    "############################\n",
    "# FEATURE/LABEL EXTRACTION #\n",
    "############################\n",
    "# Features\n",
    "X = dp.extract_features(df_filtered)\n",
    "\n",
    "# Labels\n",
    "Y = df_filtered[['Fx', 'Fy', 'Fz', 'Tz']]\n",
    "\n",
    "# Strata\n",
    "strata = df_filtered['trial']"
   ],
   "id": "914eae97bfe749a0",
   "outputs": [],
   "execution_count": 11
  },
  {
   "metadata": {
    "ExecuteTime": {
     "end_time": "2024-05-23T19:15:47.826354Z",
     "start_time": "2024-05-23T19:15:47.752552Z"
    }
   },
   "cell_type": "code",
   "source": [
    "######################\n",
    "# CONVERT TO TENSORS #\n",
    "######################\n",
    "X_tensor = torch.tensor(X.values, dtype=torch.float32)\n",
    "Y_tensor = torch.tensor(Y.to_numpy().reshape((-1, 4)), dtype=torch.float32)"
   ],
   "id": "155a5e509253bdb6",
   "outputs": [],
   "execution_count": 12
  },
  {
   "metadata": {
    "ExecuteTime": {
     "end_time": "2024-05-23T19:15:47.950978Z",
     "start_time": "2024-05-23T19:15:47.830356Z"
    }
   },
   "cell_type": "code",
   "source": [
    "####################\n",
    "# TRAIN-TEST SPLIT #\n",
    "####################\n",
    "# Make the same stratified split for X, Y and strata\n",
    "(X_full_train,      X_test, \n",
    " Y_full_train,      Y_test, \n",
    " strata_full_train, strata_test) = train_test_split(X_tensor, Y_tensor, strata, test_size=0.2, random_state=42, stratify=strata)"
   ],
   "id": "b49c9fef512f2ab6",
   "outputs": [],
   "execution_count": 13
  },
  {
   "metadata": {},
   "cell_type": "code",
   "outputs": [],
   "execution_count": null,
   "source": "DIR = '../results/20240523-204855'",
   "id": "248406a021cf1a06"
  },
  {
   "metadata": {
    "ExecuteTime": {
     "end_time": "2024-05-23T19:15:48.967666Z",
     "start_time": "2024-05-23T19:15:47.957356Z"
    }
   },
   "cell_type": "code",
   "source": [
    "DIR = 'results/' + time.strftime(\"%Y%m%d-%H%M%S/\", time.localtime())\n",
    "\n",
    "###############\n",
    "# PERFORM PCA #\n",
    "###############\n",
    "X_pc_full_train, X_pc_test = dp.perform_pca(X_full_train, X_test, DIR)"
   ],
   "id": "3cc8977d5935a7b",
   "outputs": [],
   "execution_count": 14
  },
  {
   "metadata": {
    "ExecuteTime": {
     "end_time": "2024-05-23T19:16:35.588389Z",
     "start_time": "2024-05-23T19:16:31.962403Z"
    }
   },
   "cell_type": "code",
   "source": [
    "################\n",
    "# Fx REGRESSOR #\n",
    "################\n",
    "Fx_regressor = MLP([42])\n",
    "Fx_regressor.train_(X_pc_full_train, Y_full_train[:, 0].reshape(-1, 1))\n",
    "\n",
    "# Evaluate the model\n",
    "Fx_regressor.eval()\n",
    "Fx_pred = Fx_regressor(X_pc_test)\n",
    "me.print_metrics(Y_test[:, 0].reshape(-1, 1), Fx_pred)"
   ],
   "id": "12ddbbca1b6b4ac1",
   "outputs": [
    {
     "name": "stdout",
     "output_type": "stream",
     "text": [
      "Performance on the test set:\n",
      "NRMSE = 0.0659\n",
      "r = 0.9271290573489783\n"
     ]
    },
    {
     "data": {
      "text/plain": [
       "<Figure size 300x300 with 1 Axes>"
      ],
      "image/png": "[encoded data removed]"
     },
     "metadata": {},
     "output_type": "display_data"
    }
   ],
   "execution_count": 18
  },
  {
   "metadata": {
    "ExecuteTime": {
     "end_time": "2024-05-23T19:18:03.226574Z",
     "start_time": "2024-05-23T19:17:59.092839Z"
    }
   },
   "cell_type": "code",
   "source": [
    "################\n",
    "# Fy REGRESSOR #\n",
    "################\n",
    "Fy_regressor = MLP([42])\n",
    "Fy_regressor.train_(X_pc_full_train, Y_full_train[:, 1].reshape(-1, 1))\n",
    "\n",
    "# Evaluate the model\n",
    "Fy_regressor.eval()\n",
    "Fy_pred = Fy_regressor(X_pc_test)\n",
    "me.print_metrics(Y_test[:, 1].reshape(-1, 1), Fy_pred)"
   ],
   "id": "5dc07c9c5c998ed3",
   "outputs": [
    {
     "name": "stdout",
     "output_type": "stream",
     "text": [
      "Performance on the test set:\n",
      "NRMSE = 0.0539\n",
      "r = 0.9512165415283007\n"
     ]
    },
    {
     "data": {
      "text/plain": [
       "<Figure size 300x300 with 1 Axes>"
      ],
      "image/png": "[encoded data removed]"
     },
     "metadata": {},
     "output_type": "display_data"
    }
   ],
   "execution_count": 20
  },
  {
   "metadata": {
    "ExecuteTime": {
     "end_time": "2024-05-23T19:18:06.865170Z",
     "start_time": "2024-05-23T19:18:03.233653Z"
    }
   },
   "cell_type": "code",
   "source": [
    "################\n",
    "# Fz REGRESSOR #\n",
    "################\n",
    "Fz_regressor = MLP([42])\n",
    "Fz_regressor.train_(X_pc_full_train, Y_full_train[:, 2].reshape(-1, 1))\n",
    "\n",
    "# Evaluate the model\n",
    "Fz_regressor.eval()\n",
    "Fz_pred = Fz_regressor(X_pc_test)\n",
    "me.print_metrics(Y_test[:, 2].reshape(-1, 1), Fz_pred)"
   ],
   "id": "ae1cb912b132bb92",
   "outputs": [
    {
     "name": "stdout",
     "output_type": "stream",
     "text": [
      "Performance on the test set:\n",
      "NRMSE = 0.0365\n",
      "r = 0.990316161100608\n"
     ]
    },
    {
     "data": {
      "text/plain": [
       "<Figure size 300x300 with 1 Axes>"
      ],
      "image/png": "[encoded data removed]"
     },
     "metadata": {},
     "output_type": "display_data"
    }
   ],
   "execution_count": 21
  },
  {
   "metadata": {
    "ExecuteTime": {
     "end_time": "2024-05-23T19:18:10.072235Z",
     "start_time": "2024-05-23T19:18:06.877558Z"
    }
   },
   "cell_type": "code",
   "source": [
    "################\n",
    "# Tz REGRESSOR #\n",
    "################\n",
    "Tz_regressor = MLP([50])\n",
    "Tz_regressor.train_(X_pc_full_train, Y_full_train[:, 3].reshape(-1, 1))\n",
    "\n",
    "# Evaluate the model\n",
    "Tz_regressor.eval()\n",
    "Tz_pred = Tz_regressor(X_pc_test)\n",
    "me.print_metrics(Y_test[:, 3].reshape(-1, 1), Tz_pred)"
   ],
   "id": "3c3f2fb39e1ab0b9",
   "outputs": [
    {
     "name": "stdout",
     "output_type": "stream",
     "text": [
      "Performance on the test set:\n",
      "NRMSE = 0.0897\n",
      "r = 0.8744699117220396\n"
     ]
    },
    {
     "data": {
      "text/plain": [
       "<Figure size 300x300 with 1 Axes>"
      ],
      "image/png": "[encoded data removed]"
     },
     "metadata": {},
     "output_type": "display_data"
    }
   ],
   "execution_count": 22
  }
 ],
 "metadata": {
  "kernelspec": {
   "display_name": "Python 3",
   "language": "python",
   "name": "python3"
  },
  "language_info": {
   "codemirror_mode": {
    "name": "ipython",
    "version": 2
   },
   "file_extension": ".py",
   "mimetype": "text/x-python",
   "name": "python",
   "nbconvert_exporter": "python",
   "pygments_lexer": "ipython2",
   "version": "2.7.6"
  }
 },
 "nbformat": 4,
 "nbformat_minor": 5
}
